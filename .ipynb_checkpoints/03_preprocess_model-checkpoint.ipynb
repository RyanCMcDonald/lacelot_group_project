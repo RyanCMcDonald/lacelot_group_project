{
 "cells": [
  {
   "cell_type": "markdown",
   "metadata": {},
   "source": [
    "# <img src=\"./resources/GA.png\" width=\"25\" height=\"25\" />   <span style=\"color:Purple\">Project 5 :  Food Insecurity Regression Study</span> \n",
    "---\n",
    "## <span style=\"color:Green\">Preprocessing / Modeling</span>      \n",
    "\n",
<<<<<<< HEAD
    "#### Alec Edgecliffe-Johnson, Ryan McDonald, Andrew Roberts, Ira Seidman- General Assembly \n",
=======
    "#### Alec Edgecliffe-Johnson, Ryan McDonald, Andrew Roberts, Ira Seidman - General Assembly \n",
>>>>>>> upstream/main
    "\n",
    "\n",
    "\n",
    "---"
   ]
  },
  {
   "cell_type": "markdown",
   "metadata": {},
   "source": [
    "### Notebook Contents:\n",
    "\n",
    "- [Reading the Data](#intro)\n",
    "- [Modeling](#modeling)\n",
    "    - [Production Model, LinReg](#prod)\n",
    "         - [Extended Analysis](#analysis)\n",
    "    - [Model #2, KNN](#second)\n",
    "    - [Model #3, Decision Tree](#third)\n",
    "    - [Model #4, PolyFeat, LinReg](#fourth)\n",
    "    - [Model #5, ADA Boost](#fifth)\n",
    "    - [Model #6, SVM](#sixth)\n",
<<<<<<< HEAD
    "    - [Model #7, TF NN](#seventh)\n"
=======
    "    - [Model #7, TensorFlow NN](#seventh)\n",
    "    - [Model #8, RandomForest](#eigth)\n",
    "    - [Model #9, PCA, LinRe](#ninth)\n"
>>>>>>> upstream/main
   ]
  },
  {
   "cell_type": "markdown",
   "metadata": {},
   "source": [
    "**Imports**"
   ]
  },
  {
   "cell_type": "code",
   "execution_count": 1,
   "metadata": {},
   "outputs": [],
   "source": [
    "import pandas as pd\n",
    "import numpy as np\n",
    "\n",
    "# Plotting Imports\n",
    "import matplotlib.pyplot as plt\n",
    "import seaborn as sns\n",
    "\n",
    "# SciKit Learn Processing/ Modeling Imports\n",
    "from sklearn.model_selection import train_test_split, GridSearchCV, cross_val_score\n",
    "from sklearn.pipeline import Pipeline\n",
    "from sklearn.metrics import r2_score, mean_squared_error\n",
    "from sklearn import metrics\n",
    "from sklearn.preprocessing import StandardScaler, PolynomialFeatures\n",
    "from sklearn.linear_model import LinearRegression, LassoCV\n",
    "from sklearn.neighbors import KNeighborsRegressor\n",
    "from sklearn.tree import DecisionTreeRegressor\n",
    "from sklearn.ensemble import BaggingRegressor, RandomForestRegressor, AdaBoostRegressor\n",
    "from sklearn.svm import SVR\n",
<<<<<<< HEAD
    "\n",
    "pd.set_option('display.max_rows', None)\n",
    "pd.set_option('display.max_columns', None)\n",
    "pd.set_option('display.width', None)\n",
    "pd.set_option('display.max_colwidth', None)\n",
=======
    "from sklearn.decomposition import PCA\n",
>>>>>>> upstream/main
    "\n",
    "# Tensor Flow, Keras NN\n",
    "from tensorflow.keras.metrics import RootMeanSquaredError\n",
    "from tensorflow.keras.models import Sequential\n",
    "from tensorflow.keras.layers import Dense, Dropout, BatchNormalization\n",
    "from tensorflow.keras.regularizers import l1, l2, l1_l2\n",
    "from tensorflow.keras.callbacks import EarlyStopping\n",
<<<<<<< HEAD
    "from tensorflow.keras.models import load_model\n"
=======
    "from tensorflow.keras.models import load_model\n",
    "from tensorflow.keras.wrappers.scikit_learn import KerasRegressor\n",
    "from tensorflow.keras.utils import plot_model"
>>>>>>> upstream/main
   ]
  },
  {
   "cell_type": "markdown",
   "metadata": {},
   "source": [
    "<a id='intro'></a>\n",
    "\n",
<<<<<<< HEAD
    "## 1. Read the Data"
=======
    "## 1. Read the Data\n",
    "Read in data for each of the different imputation files - mean, median, mode, knn, lr, and rf"
>>>>>>> upstream/main
   ]
  },
  {
   "cell_type": "code",
<<<<<<< HEAD
   "execution_count": 3,
   "metadata": {},
   "outputs": [],
   "source": [
    "df = pd.read_csv('data/df_final.csv')"
=======
   "execution_count": 2,
   "metadata": {},
   "outputs": [],
   "source": [
    "df = pd.read_csv('data/df_final.csv')\n",
    "\n",
    "df_mean = pd.read_csv('cleaned_dataframes/df_m_mean.csv')\n",
    "df_median = pd.read_csv('cleaned_dataframes/df_m_median.csv')\n",
    "df_mode = pd.read_csv('cleaned_dataframes/df_m_mode.csv')\n",
    "df_knn = pd.read_csv('cleaned_dataframes/df_m_knn.csv')\n",
    "df_lr = pd.read_csv('cleaned_dataframes/df_m_lr.csv')\n",
    "df_rf = pd.read_csv('cleaned_dataframes/df_m_rf.csv')"
>>>>>>> upstream/main
   ]
  },
  {
   "cell_type": "markdown",
   "metadata": {},
   "source": [
    "<a id='modeling'></a>\n",
    "## Modeling Pre-work\n",
    "\n",
<<<<<<< HEAD
    "**Setting X, y and Train-Test-Split**"
=======
    "**Setting X, y and Train-Test-Split for Each Imputation on Production Model**"
>>>>>>> upstream/main
   ]
  },
  {
   "cell_type": "code",
<<<<<<< HEAD
   "execution_count": 4,
   "metadata": {},
   "outputs": [],
   "source": [
    "features = df.drop(columns = ['ch_fi_rate_18', 'fi_rate_18', 'cpm_18', \n",
    "                       'state_abr', 'state_name', 'fips', 'county'])\n",
    "\n",
    "X = features\n",
    "y = df['fi_rate_18']\n",
    "\n",
    "X_train, X_test, y_train, y_test = train_test_split(X,\n",
    "                                                    y,\n",
    "                                                    random_state=42)"
=======
   "execution_count": 3,
   "metadata": {},
   "outputs": [],
   "source": [
    "features_to_drop = ['ch_fi_rate_18', 'fi_rate_18', 'cpm_18', 'state_abr', 'state_name', 'fips', 'county']\n",
    "dummified_features_to_drop = ['ch_fi_rate_18', 'fi_rate_18', 'cpm_18',  'fips']\n",
    "\n",
    "# Also drop all the dummy variables from the 'state_abr', 'state_name', and 'county' columns in df_knn, df_lr, and df_rf \n",
    "for col in df_lr.columns:\n",
    "    #print(col)\n",
    "    if (col.startswith(\"state_abr\") or col.startswith(\"state_name\") or col.startswith(\"county\")):\n",
    "        dummified_features_to_drop.append(col)\n",
    "\n",
    "# Set X and y for each imputation\n",
    "X_mean, X_median, X_mode, X_knn, X_lr, X_rf = df_mean.drop(features_to_drop, axis = 1), df_median.drop(features_to_drop, axis = 1), df_mode.drop(features_to_drop, axis = 1), df_knn.drop(dummified_features_to_drop, axis = 1), df_lr.drop(dummified_features_to_drop, axis = 1), df_rf.drop(dummified_features_to_drop, axis = 1)\n",
    "y_mean, y_median, y_mode, y_knn, y_lr, y_rf = df_mean['fi_rate_18'], df_median['fi_rate_18'], df_mode['fi_rate_18'], df_knn['fi_rate_18'], df_lr['fi_rate_18'], df_rf['fi_rate_18']\n",
    "\n",
    "# Train-test splits\n",
    "X_train_mean, X_test_mean, y_train_mean, y_test_mean = train_test_split(X_mean, y_mean, random_state = 1)\n",
    "X_train_median, X_test_median, y_train_median, y_test_median = train_test_split(X_median, y_median, random_state = 1)\n",
    "X_train_mode, X_test_mode, y_train_mode, y_test_mode = train_test_split(X_mode, y_mode, random_state = 1)\n",
    "X_train_knn, X_test_knn, y_train_knn, y_test_knn = train_test_split(X_knn, y_knn, random_state = 1)\n",
    "X_train_lr, X_test_lr, y_train_lr, y_test_lr = train_test_split(X_lr, y_lr, random_state = 1)\n",
    "X_train_rf, X_test_rf, y_train_rf, y_test_rf = train_test_split(X_rf, y_rf, random_state = 1)"
>>>>>>> upstream/main
   ]
  },
  {
   "cell_type": "code",
<<<<<<< HEAD
   "execution_count": 5,
   "metadata": {},
   "outputs": [],
   "source": [
    "# Scaling Data\n",
    "ss = StandardScaler()\n",
    "Z_train = ss.fit_transform(X_train)\n",
    "Z_test = ss.transform(X_test)"
=======
   "execution_count": 4,
   "metadata": {},
   "outputs": [],
   "source": [
    "# Scale data for each imptation\n",
    "ss = StandardScaler()\n",
    "\n",
    "Z_train_mean, Z_train_median, Z_train_mode, Z_train_knn, Z_train_lr, Z_train_rf = ss.fit_transform(X_train_mean), ss.fit_transform(X_train_median), ss.fit_transform(X_train_mode), ss.fit_transform(X_train_knn), ss.fit_transform(X_train_lr), ss.fit_transform(X_train_rf)\n",
    "Z_test_mean, Z_test_median, Z_test_mode, Z_test_knn, Z_test_lr, Z_test_rf = ss.transform(X_test_mean), ss.transform(X_test_median), ss.transform(X_test_mode), ss.transform(X_test_knn), ss.transform(X_test_lr), ss.transform(X_test_rf)\n",
    "\n",
    "y_trains = [y_mean, y_median, y_mode, y_knn, y_lr, y_rf]\n",
    "Z_trains = [Z_train_mean, Z_train_median, Z_train_mode, Z_train_knn, Z_train_lr, Z_train_rf]"
>>>>>>> upstream/main
   ]
  },
  {
   "cell_type": "markdown",
   "metadata": {},
   "source": [
    "<a id='prod'></a>\n",
    "### Model 1: Production Model\n",
    "\n",
<<<<<<< HEAD
    "**Linear Regression**"
=======
    "**Linear Regression w/ Imputations**"
>>>>>>> upstream/main
   ]
  },
  {
   "cell_type": "code",
<<<<<<< HEAD
   "execution_count": 21,
=======
   "execution_count": 5,
>>>>>>> upstream/main
   "metadata": {},
   "outputs": [
    {
     "data": {
      "text/plain": [
       "dict_keys(['copy_X', 'fit_intercept', 'n_jobs', 'normalize'])"
      ]
     },
<<<<<<< HEAD
     "execution_count": 21,
=======
     "execution_count": 5,
>>>>>>> upstream/main
     "metadata": {},
     "output_type": "execute_result"
    }
   ],
   "source": [
    "LinearRegression().get_params().keys()"
   ]
  },
  {
   "cell_type": "code",
<<<<<<< HEAD
   "execution_count": 31,
   "metadata": {},
   "outputs": [],
   "source": [
    "# Setting up the Pipeline/ GridSearch\n",
    "\n",
    "pipe_ln = Pipeline([\n",
    "    ('ln', LinearRegression())\n",
    "])\n",
    "\n",
    "pipe_ln_params = { 'ln__fit_intercept': [False, True],\n",
    "                  'ln__copy_X': [False, True],\n",
    "                  'ln__normalize': [False, True]\n",
    "}\n",
    "\n",
    "pipe_ln.fit(Z_train, y_train)\n",
    "gs_ln = GridSearchCV(pipe_ln, \n",
    "                        param_grid = pipe_ln_params, \n",
    "                        cv=5)\n",
    "\n",
    "gs_ln.fit(Z_train, y_train);"
=======
   "execution_count": 7,
   "metadata": {},
   "outputs": [
    {
     "data": {
      "text/html": [
       "<div>\n",
       "<style scoped>\n",
       "    .dataframe tbody tr th:only-of-type {\n",
       "        vertical-align: middle;\n",
       "    }\n",
       "\n",
       "    .dataframe tbody tr th {\n",
       "        vertical-align: top;\n",
       "    }\n",
       "\n",
       "    .dataframe thead th {\n",
       "        text-align: right;\n",
       "    }\n",
       "</style>\n",
       "<table border=\"1\" class=\"dataframe\">\n",
       "  <thead>\n",
       "    <tr style=\"text-align: right;\">\n",
       "      <th></th>\n",
       "      <th>gs_lr_mean</th>\n",
       "      <th>gs_lr_median</th>\n",
       "      <th>gs_lr_mode</th>\n",
       "      <th>gs_lr_knn</th>\n",
       "      <th>gs_lr_lr</th>\n",
       "      <th>gs_lr_rf</th>\n",
       "    </tr>\n",
       "  </thead>\n",
       "  <tbody>\n",
       "    <tr>\n",
       "      <th>0</th>\n",
       "      <td>0.932081</td>\n",
       "      <td>0.932271</td>\n",
       "      <td>0.931995</td>\n",
       "      <td>0.935029</td>\n",
       "      <td>-474.216</td>\n",
       "      <td>0.935189</td>\n",
       "    </tr>\n",
       "    <tr>\n",
       "      <th>1</th>\n",
       "      <td>{'lr__copy_X': False, 'lr__fit_intercept': Tru...</td>\n",
       "      <td>{'lr__copy_X': False, 'lr__fit_intercept': Tru...</td>\n",
       "      <td>{'lr__copy_X': False, 'lr__fit_intercept': Tru...</td>\n",
       "      <td>{'lr__copy_X': False, 'lr__fit_intercept': Tru...</td>\n",
       "      <td>{'lr__copy_X': False, 'lr__fit_intercept': Tru...</td>\n",
       "      <td>{'lr__copy_X': False, 'lr__fit_intercept': Tru...</td>\n",
       "    </tr>\n",
       "  </tbody>\n",
       "</table>\n",
       "</div>"
      ],
      "text/plain": [
       "                                          gs_lr_mean  \\\n",
       "0                                           0.932081   \n",
       "1  {'lr__copy_X': False, 'lr__fit_intercept': Tru...   \n",
       "\n",
       "                                        gs_lr_median  \\\n",
       "0                                           0.932271   \n",
       "1  {'lr__copy_X': False, 'lr__fit_intercept': Tru...   \n",
       "\n",
       "                                          gs_lr_mode  \\\n",
       "0                                           0.931995   \n",
       "1  {'lr__copy_X': False, 'lr__fit_intercept': Tru...   \n",
       "\n",
       "                                           gs_lr_knn  \\\n",
       "0                                           0.935029   \n",
       "1  {'lr__copy_X': False, 'lr__fit_intercept': Tru...   \n",
       "\n",
       "                                            gs_lr_lr  \\\n",
       "0                                           -474.216   \n",
       "1  {'lr__copy_X': False, 'lr__fit_intercept': Tru...   \n",
       "\n",
       "                                            gs_lr_rf  \n",
       "0                                           0.935189  \n",
       "1  {'lr__copy_X': False, 'lr__fit_intercept': Tru...  "
      ]
     },
     "execution_count": 7,
     "metadata": {},
     "output_type": "execute_result"
    }
   ],
   "source": [
    "# Pipeline and gridsearch\n",
    "pipe_lr = Pipeline([\n",
    "    ('lr', LinearRegression())\n",
    "])\n",
    "\n",
    "# Gridsearch over the same parameters for all imputation pipes\n",
    "pipe_ln_params = { 'lr__fit_intercept': [False, True],\n",
    "                  'lr__copy_X': [False, True],\n",
    "                  'lr__normalize': [False, True]\n",
    "}\n",
    "\n",
    "pipe_lr_mean, pipe_lr_median, pipe_lr_mode, pipe_lr_knn, pipe_lr_lr, pipe_lr_rf = pipe_lr.fit(Z_train_mean, y_train_mean), pipe_lr.fit(Z_train_median, y_train_median), pipe_lr.fit(Z_train_mode, y_train_mode), pipe_lr.fit(Z_train_knn, y_train_knn), pipe_lr.fit(Z_train_lr, y_train_lr), pipe_lr.fit(Z_train_rf, y_train_rf)\n",
    "\n",
    "\n",
    "#Gridsearch on pipes for different imputations\n",
    "gs_lr_mean = GridSearchCV(pipe_lr_mean,\n",
    "                     param_grid = pipe_ln_params,\n",
    "                     cv = 5)\n",
    "gs_lr_median = GridSearchCV(pipe_lr_median,\n",
    "                     param_grid = pipe_ln_params,\n",
    "                     cv = 5)\n",
    "gs_lr_mode = GridSearchCV(pipe_lr_mode,\n",
    "                     param_grid = pipe_ln_params,\n",
    "                     cv = 5)\n",
    "gs_lr_knn = GridSearchCV(pipe_lr_knn,\n",
    "                     param_grid = pipe_ln_params,\n",
    "                     cv = 5)\n",
    "gs_lr_lr = GridSearchCV(pipe_lr_lr,\n",
    "                     param_grid = pipe_ln_params,\n",
    "                     cv = 5)\n",
    "gs_lr_rf = GridSearchCV(pipe_lr_rf,\n",
    "                     param_grid = pipe_ln_params,\n",
    "                     cv = 5)\n",
    "\n",
    "gs_lr_mean.fit(Z_train_mean, y_train_mean), gs_lr_median.fit(Z_train_median, y_train_median), gs_lr_mode.fit(Z_train_mode, y_train_mode), gs_lr_knn.fit(Z_train_knn, y_train_knn), gs_lr_lr.fit(Z_train_lr, y_train_lr), gs_lr_rf.fit(Z_train_rf, y_train_rf)\n",
    "\n",
    "# Return best scores and params for cross-validated pipes\n",
    "lr_pipes = {'gs_lr_mean': [gs_lr_mean.best_score_, gs_lr_mean.best_params_],\n",
    "            'gs_lr_median': [gs_lr_median.best_score_, gs_lr_median.best_params_],\n",
    "            'gs_lr_mode': [gs_lr_mode.best_score_, gs_lr_mode.best_params_],\n",
    "            'gs_lr_knn': [gs_lr_knn.best_score_, gs_lr_knn.best_params_],\n",
    "            'gs_lr_lr': [gs_lr_lr.best_score_, gs_lr_lr.best_params_],\n",
    "            'gs_lr_rf': [gs_lr_rf.best_score_, gs_lr_rf.best_params_]\n",
    "           }\n",
    "\n",
    "gs_lr_results = pd.DataFrame(lr_pipes)\n",
    "gs_lr_results.head()"
>>>>>>> upstream/main
   ]
  },
  {
   "cell_type": "code",
<<<<<<< HEAD
   "execution_count": 23,
   "metadata": {},
   "outputs": [
    {
     "name": "stdout",
     "output_type": "stream",
     "text": [
      "0.9331071494649233\n"
     ]
    },
    {
     "data": {
      "text/plain": [
       "{'ln__copy_X': False, 'ln__fit_intercept': True, 'ln__normalize': False}"
      ]
     },
     "execution_count": 23,
=======
   "execution_count": 22,
   "metadata": {},
   "outputs": [
    {
     "data": {
      "text/html": [
       "<div>\n",
       "<style scoped>\n",
       "    .dataframe tbody tr th:only-of-type {\n",
       "        vertical-align: middle;\n",
       "    }\n",
       "\n",
       "    .dataframe tbody tr th {\n",
       "        vertical-align: top;\n",
       "    }\n",
       "\n",
       "    .dataframe thead th {\n",
       "        text-align: right;\n",
       "    }\n",
       "</style>\n",
       "<table border=\"1\" class=\"dataframe\">\n",
       "  <thead>\n",
       "    <tr style=\"text-align: right;\">\n",
       "      <th></th>\n",
       "      <th>Training RMSE</th>\n",
       "      <th>Testing RMSE</th>\n",
       "      <th>Training R2</th>\n",
       "      <th>Testing R2</th>\n",
       "    </tr>\n",
       "  </thead>\n",
       "  <tbody>\n",
       "    <tr>\n",
       "      <th>gs_lr_mean training score:</th>\n",
       "      <td>0.9446</td>\n",
       "      <td>0.9442</td>\n",
       "      <td>0.9402</td>\n",
       "      <td>0.9347</td>\n",
       "    </tr>\n",
       "    <tr>\n",
       "      <th>gs_lr_median training score:</th>\n",
       "      <td>0.9436</td>\n",
       "      <td>0.9406</td>\n",
       "      <td>0.9402</td>\n",
       "      <td>0.9348</td>\n",
       "    </tr>\n",
       "    <tr>\n",
       "      <th>gs_lr_mode training score:</th>\n",
       "      <td>0.9453</td>\n",
       "      <td>0.9517</td>\n",
       "      <td>0.9397</td>\n",
       "      <td>0.9343</td>\n",
       "    </tr>\n",
       "    <tr>\n",
       "      <th>gs_lr_knn training score:</th>\n",
       "      <td>0.9256</td>\n",
       "      <td>169.4881</td>\n",
       "      <td>-2125.5711</td>\n",
       "      <td>-2122.4436</td>\n",
       "    </tr>\n",
       "    <tr>\n",
       "      <th>gs_lr_lr training score:</th>\n",
       "      <td>0.9465</td>\n",
       "      <td>985482.1799</td>\n",
       "      <td>-72209358.8606</td>\n",
       "      <td>-77294005.5258</td>\n",
       "    </tr>\n",
       "    <tr>\n",
       "      <th>gs_lr_rf training score:</th>\n",
       "      <td>0.9260</td>\n",
       "      <td>0.9334</td>\n",
       "      <td>0.9404</td>\n",
       "      <td>0.9353</td>\n",
       "    </tr>\n",
       "  </tbody>\n",
       "</table>\n",
       "</div>"
      ],
      "text/plain": [
       "                               Training RMSE  Testing RMSE    Training R2  \\\n",
       "gs_lr_mean training score:            0.9446        0.9442         0.9402   \n",
       "gs_lr_median training score:          0.9436        0.9406         0.9402   \n",
       "gs_lr_mode training score:            0.9453        0.9517         0.9397   \n",
       "gs_lr_knn training score:             0.9256      169.4881     -2125.5711   \n",
       "gs_lr_lr training score:              0.9465   985482.1799 -72209358.8606   \n",
       "gs_lr_rf training score:              0.9260        0.9334         0.9404   \n",
       "\n",
       "                                  Testing R2  \n",
       "gs_lr_mean training score:            0.9347  \n",
       "gs_lr_median training score:          0.9348  \n",
       "gs_lr_mode training score:            0.9343  \n",
       "gs_lr_knn training score:         -2122.4436  \n",
       "gs_lr_lr training score:      -77294005.5258  \n",
       "gs_lr_rf training score:              0.9353  "
      ]
     },
     "execution_count": 22,
>>>>>>> upstream/main
     "metadata": {},
     "output_type": "execute_result"
    }
   ],
   "source": [
<<<<<<< HEAD
    "print(gs_ln.best_score_)\n",
    "gs_ln.best_params_"
   ]
  },
  {
   "cell_type": "code",
   "execution_count": 24,
   "metadata": {},
   "outputs": [
    {
     "name": "stdout",
     "output_type": "stream",
     "text": [
      "ln Training RMSE: 0.9242882324129449\n",
      "ln Testing RMSE: 0.9967000195040715\n"
     ]
    }
   ],
   "source": [
    "ln_preds_train = gs_ln.predict(Z_train)\n",
    "ln_preds_test = gs_ln.predict(Z_test)\n",
    "\n",
    "print(f'ln Training RMSE: {mean_squared_error(y_train, ln_preds_train, squared = False)}')\n",
    "print(f'ln Testing RMSE: {mean_squared_error(y_test, ln_preds_test, squared = False)}')"
   ]
  },
  {
   "cell_type": "code",
   "execution_count": 25,
   "metadata": {},
   "outputs": [
    {
     "name": "stdout",
     "output_type": "stream",
     "text": [
      "Training R2: 0.9386462698301442\n",
      "Testing R2: 0.9330074240127388\n"
     ]
    }
   ],
   "source": [
    "print(f'Training R2: {pipe_ln.score(Z_train, y_train)}')\n",
    "print(f'Testing R2: {pipe_ln.score(Z_test, y_test)}')"
=======
    "# Reinstantiate pipe_lr with gridsearched parameters\n",
    "pipe_lr = Pipeline([\n",
    "    ('lr', LinearRegression(copy_X = False, fit_intercept = True, normalize = False))\n",
    "])\n",
    "pipe_lr_rf = pipe_lr.fit(Z_train_mean, y_train_mean) \n",
    "\n",
    "lr_mean_preds_train, lr_median_preds_train, lr_mode_preds_train, lr_knn_preds_train, lr_lr_preds_train, lr_rf_preds_train = gs_lr_mean.predict(Z_train_mean), gs_lr_median.predict(Z_train_median), gs_lr_mode.predict(Z_train_mode), gs_lr_knn.predict(Z_train_knn), gs_lr_lr.predict(Z_train_lr), gs_lr_rf.predict(Z_train_rf)\n",
    "lr_mean_preds_test, lr_median_preds_test, lr_mode_preds_test, lr_knn_preds_test, lr_lr_preds_test, lr_rf_preds_test = gs_lr_mean.predict(Z_test_mean), gs_lr_median.predict(Z_test_median), gs_lr_mode.predict(Z_test_mode), gs_lr_knn.predict(Z_test_knn), gs_lr_lr.predict(Z_test_lr), gs_lr_rf.predict(Z_test_rf)\n",
    "\n",
    "# Return best scores and params for predictions based off of training data\n",
    "lr_mse_results = {'gs_lr_mean training score: ' : [mean_squared_error(y_train_mean, lr_mean_preds_train, squared = False), mean_squared_error(y_test_mean, lr_mean_preds_test, squared = False), gs_lr_mean.score(Z_train_rf, y_train_rf), gs_lr_mean.score(Z_test_rf, y_test_rf)],\n",
    "                   'gs_lr_median training score: ' : [mean_squared_error(y_train_median, lr_median_preds_train, squared = False), mean_squared_error(y_test_median, lr_median_preds_test, squared = False), gs_lr_median.score(Z_train_rf, y_train_rf), gs_lr_median.score(Z_test_rf, y_test_rf)],\n",
    "                   'gs_lr_mode training score: ' : [mean_squared_error(y_train_mode, lr_mode_preds_train, squared = False), mean_squared_error(y_test_mode, lr_mode_preds_test, squared = False), gs_lr_mode.score(Z_train_rf, y_train_rf), gs_lr_mode.score(Z_test_rf, y_test_rf)],\n",
    "                   'gs_lr_knn training score: ' : [mean_squared_error(y_train_knn, lr_knn_preds_train, squared = False), mean_squared_error(y_test_knn, lr_knn_preds_test, squared = False), gs_lr_knn.score(Z_train_rf, y_train_rf), gs_lr_knn.score(Z_test_rf, y_test_rf)],\n",
    "                   'gs_lr_lr training score: ' : [mean_squared_error(y_train_lr, lr_lr_preds_train, squared = False), mean_squared_error(y_test_lr, lr_lr_preds_test, squared = False), gs_lr_lr.score(Z_train_rf, y_train_rf), gs_lr_lr.score(Z_test_rf, y_test_rf)],\n",
    "                   'gs_lr_rf training score: ' : [mean_squared_error(y_train_rf, lr_rf_preds_train, squared = False), mean_squared_error(y_test_rf, lr_rf_preds_test, squared = False), gs_lr_rf.score(Z_train_rf, y_train_rf), gs_lr_rf.score(Z_test_rf, y_test_rf)]\n",
    "                  }\n",
    "\n",
    "lr_mse_results = pd.DataFrame(lr_mse_results, index = ['Training RMSE', 'Testing RMSE', 'Training R2', 'Testing R2']).T\n",
    "pd.options.display.float_format = '{:.4f}'.format\n",
    "lr_mse_results"
   ]
  },
  {
   "cell_type": "markdown",
   "metadata": {},
   "source": [
    "With our highest performing imputation utilizing Random Forest Regression, our model predicts Food Insecurity Rates, on average, within 0.93 points of the actual data.  One could assume this model could be successful in predicting Food Insecurity well when approached by unseen data. The linear regression imputation results appear to show an error, which should be investigated, however the production model will not be utilizing this imputation method."
>>>>>>> upstream/main
   ]
  },
  {
   "cell_type": "code",
<<<<<<< HEAD
   "execution_count": 26,
=======
   "execution_count": 8,
>>>>>>> upstream/main
   "metadata": {},
   "outputs": [
    {
     "data": {
      "text/html": [
       "<div>\n",
       "<style scoped>\n",
       "    .dataframe tbody tr th:only-of-type {\n",
       "        vertical-align: middle;\n",
       "    }\n",
       "\n",
       "    .dataframe tbody tr th {\n",
       "        vertical-align: top;\n",
       "    }\n",
       "\n",
       "    .dataframe thead th {\n",
       "        text-align: right;\n",
       "    }\n",
       "</style>\n",
       "<table border=\"1\" class=\"dataframe\">\n",
       "  <thead>\n",
       "    <tr style=\"text-align: right;\">\n",
       "      <th></th>\n",
       "      <th>features</th>\n",
       "      <th>coefficients</th>\n",
       "    </tr>\n",
       "  </thead>\n",
       "  <tbody>\n",
       "    <tr>\n",
       "      <th>44</th>\n",
       "      <td>percent_disabled</td>\n",
<<<<<<< HEAD
       "      <td>0.767051</td>\n",
=======
       "      <td>0.844686</td>\n",
>>>>>>> upstream/main
       "    </tr>\n",
       "    <tr>\n",
       "      <th>16</th>\n",
       "      <td>percent_children_in_poverty</td>\n",
<<<<<<< HEAD
       "      <td>0.552381</td>\n",
=======
       "      <td>0.564253</td>\n",
>>>>>>> upstream/main
       "    </tr>\n",
       "    <tr>\n",
       "      <th>5</th>\n",
       "      <td>percent_fair_or_poor_health</td>\n",
<<<<<<< HEAD
       "      <td>0.470569</td>\n",
=======
       "      <td>0.367634</td>\n",
>>>>>>> upstream/main
       "    </tr>\n",
       "    <tr>\n",
       "      <th>28</th>\n",
       "      <td>percent_severe_housing_cost_burden</td>\n",
<<<<<<< HEAD
       "      <td>0.334582</td>\n",
       "    </tr>\n",
       "    <tr>\n",
       "      <th>20</th>\n",
       "      <td>percent_severe_housing_problems</td>\n",
       "      <td>0.288251</td>\n",
=======
       "      <td>0.330053</td>\n",
>>>>>>> upstream/main
       "    </tr>\n",
       "    <tr>\n",
       "      <th>39</th>\n",
       "      <td>percent_below_poverty</td>\n",
<<<<<<< HEAD
       "      <td>0.192885</td>\n",
=======
       "      <td>0.229229</td>\n",
>>>>>>> upstream/main
       "    </tr>\n",
       "    <tr>\n",
       "      <th>18</th>\n",
       "      <td>percent_single_parent_households_CHR</td>\n",
<<<<<<< HEAD
       "      <td>0.174937</td>\n",
=======
       "      <td>0.174989</td>\n",
       "    </tr>\n",
       "    <tr>\n",
       "      <th>20</th>\n",
       "      <td>percent_severe_housing_problems</td>\n",
       "      <td>0.174969</td>\n",
>>>>>>> upstream/main
       "    </tr>\n",
       "    <tr>\n",
       "      <th>17</th>\n",
       "      <td>num_households_CHR</td>\n",
<<<<<<< HEAD
       "      <td>0.161619</td>\n",
       "    </tr>\n",
       "    <tr>\n",
       "      <th>40</th>\n",
       "      <td>percent_unemployed_CDC</td>\n",
       "      <td>0.151693</td>\n",
       "    </tr>\n",
       "    <tr>\n",
       "      <th>43</th>\n",
       "      <td>percent_age_17_and_younger</td>\n",
       "      <td>0.143348</td>\n",
=======
       "      <td>0.157639</td>\n",
       "    </tr>\n",
       "    <tr>\n",
       "      <th>6</th>\n",
       "      <td>average_number_of_mentally_unhealthy_days</td>\n",
       "      <td>0.148209</td>\n",
       "    </tr>\n",
       "    <tr>\n",
       "      <th>40</th>\n",
       "      <td>percent_unemployed_CDC</td>\n",
       "      <td>0.146774</td>\n",
>>>>>>> upstream/main
       "    </tr>\n",
       "  </tbody>\n",
       "</table>\n",
       "</div>"
      ],
      "text/plain": [
<<<<<<< HEAD
       "                                features  coefficients\n",
       "44                      percent_disabled      0.767051\n",
       "16           percent_children_in_poverty      0.552381\n",
       "5            percent_fair_or_poor_health      0.470569\n",
       "28    percent_severe_housing_cost_burden      0.334582\n",
       "20       percent_severe_housing_problems      0.288251\n",
       "39                 percent_below_poverty      0.192885\n",
       "18  percent_single_parent_households_CHR      0.174937\n",
       "17                    num_households_CHR      0.161619\n",
       "40                percent_unemployed_CDC      0.151693\n",
       "43            percent_age_17_and_younger      0.143348"
      ]
     },
     "execution_count": 26,
=======
       "                                     features  coefficients\n",
       "44                           percent_disabled      0.844686\n",
       "16                percent_children_in_poverty      0.564253\n",
       "5                 percent_fair_or_poor_health      0.367634\n",
       "28         percent_severe_housing_cost_burden      0.330053\n",
       "39                      percent_below_poverty      0.229229\n",
       "18       percent_single_parent_households_CHR      0.174989\n",
       "20            percent_severe_housing_problems      0.174969\n",
       "17                         num_households_CHR      0.157639\n",
       "6   average_number_of_mentally_unhealthy_days      0.148209\n",
       "40                     percent_unemployed_CDC      0.146774"
      ]
     },
     "execution_count": 8,
>>>>>>> upstream/main
     "metadata": {},
     "output_type": "execute_result"
    }
   ],
   "source": [
<<<<<<< HEAD
    "feature_names = features\n",
    "coefs_ln = pipe_ln.named_steps['ln'].coef_.flatten()\n",
    "model_zip = zip(feature_names, coefs_ln)\n",
=======
    "# Show ten strongest features for best testing model - random forest imputation\n",
    "coefs_lr = pipe_lr.named_steps['lr'].coef_.flatten()\n",
    "feature_names_dummified = list(X_train_rf.columns) #list of features to use when outputting feature weights\n",
    "\n",
    "model_zip = zip(feature_names_dummified, coefs_lr)\n",
>>>>>>> upstream/main
    "model_zip_df = pd.DataFrame(model_zip, columns = ['features', 'coefficients'])\n",
    "model_zip_df.sort_values(by = 'coefficients', ascending = False).head(10)"
   ]
  },
  {
   "cell_type": "markdown",
   "metadata": {},
   "source": [
    "<a id='analysis'></a>\n",
    "### Production Model Analysis "
   ]
  },
  {
<<<<<<< HEAD
   "cell_type": "code",
   "execution_count": null,
   "metadata": {},
   "outputs": [],
   "source": []
  },
  {
   "cell_type": "code",
   "execution_count": null,
   "metadata": {},
   "outputs": [],
   "source": []
  },
  {
   "cell_type": "code",
   "execution_count": null,
   "metadata": {},
   "outputs": [],
   "source": []
  },
  {
   "cell_type": "code",
   "execution_count": null,
   "metadata": {},
   "outputs": [],
   "source": []
  },
  {
   "cell_type": "code",
   "execution_count": null,
   "metadata": {},
   "outputs": [],
   "source": []
=======
   "cell_type": "markdown",
   "metadata": {},
   "source": [
    "The best model fit was the linear regression using the random forest imputation data. Below are all the additional models fit, but none beat a testing RMSE of .9334 that weren't tremendously computationally intensive. This model may be slightly underfit, but not enough to try and introduce more variance with more data/columns.\n",
    "\n",
    "Testing results are strong with Linear Regression incorporating Random Forest null imputation.  Considering all of the additional modeling techniques explored, it was surprising that a more straightforward, Linear Regression would offer such good results as well as be easily interpretable.  \n",
    "\n",
    "Utilizing all of our numerical features shows a good fit on testing results,  **0.935**  Looking into our feature coefficients (top ten shown above) although not all features show a positive coefficient, all else held equal, ‘percent_disabled’ had the highest coefficients with a 0.845% increase in food insecurity per percent increase in 'percent_disabled'. Several other features, ‘percent_children_in_poverty’, ‘percent_fair_or_poor_health’ and ‘percent_severe_housing_cost_burden’, among others, rounded the top of the list.\n",
    "The predictive power of these features aren’t a surprise.  One could assume with limited resources or physical health, food insecurity could follow.  What’s most meaningful is the top ten features all exhibit an assumed ‘negative’ condition.  And the combination of these features can have a detrimental effect to one's well being.  \n",
    "\n",
    "\n"
   ]
>>>>>>> upstream/main
  },
  {
   "cell_type": "markdown",
   "metadata": {},
   "source": [
    "<a id='second'></a>\n",
    "### Model 2: KNN"
   ]
  },
  {
   "cell_type": "code",
<<<<<<< HEAD
   "execution_count": 28,
=======
   "execution_count": 9,
>>>>>>> upstream/main
   "metadata": {},
   "outputs": [
    {
     "data": {
      "text/plain": [
       "dict_keys(['algorithm', 'leaf_size', 'metric', 'metric_params', 'n_jobs', 'n_neighbors', 'p', 'weights'])"
      ]
     },
<<<<<<< HEAD
     "execution_count": 28,
=======
     "execution_count": 9,
>>>>>>> upstream/main
     "metadata": {},
     "output_type": "execute_result"
    }
   ],
   "source": [
    "KNeighborsRegressor().get_params().keys()"
   ]
  },
  {
   "cell_type": "code",
<<<<<<< HEAD
   "execution_count": 32,
   "metadata": {},
   "outputs": [],
   "source": [
    "# Setting up the Pipeline/ GridSearch\n",
    "\n",
=======
   "execution_count": 10,
   "metadata": {},
   "outputs": [],
   "source": [
    "# Pipeline and gridsearch\n",
>>>>>>> upstream/main
    "pipe_knn = Pipeline([\n",
    "    ('knn', KNeighborsRegressor())\n",
    "])\n",
    "\n",
<<<<<<< HEAD
    "pipe_knn_params = { 'knn__n_neighbors': [5, 10, 20, 30, 40, 50, 60, 70, 80, 90, 100],\n",
    "            }\n",
    "\n",
    "pipe_knn.fit(Z_train, y_train)\n",
    "gs_knn = GridSearchCV(pipe_knn, \n",
    "                        param_grid = pipe_knn_params, \n",
    "                        cv=5)\n",
    "\n",
    "gs_knn.fit(Z_train, y_train);"
=======
    "pipe_knn_params = {'knn__n_neighbors': [5, 10, 20, 30, 40, 50, 60, 70, 80, 90, 100]\n",
    "                  }\n",
    "\n",
    "pipe_knn.fit(Z_train_rf, y_train_rf)\n",
    "\n",
    "gs_knn = GridSearchCV(pipe_knn, \n",
    "                        param_grid = pipe_knn_params, \n",
    "                        cv = 5)\n",
    "\n",
    "gs_knn.fit(Z_train_rf, y_train_rf);"
>>>>>>> upstream/main
   ]
  },
  {
   "cell_type": "code",
<<<<<<< HEAD
   "execution_count": 33,
=======
   "execution_count": 11,
>>>>>>> upstream/main
   "metadata": {},
   "outputs": [
    {
     "name": "stdout",
     "output_type": "stream",
     "text": [
<<<<<<< HEAD
      "0.851301455655712\n"
     ]
    },
    {
     "data": {
      "text/plain": [
       "{'knn__n_neighbors': 5}"
      ]
     },
     "execution_count": 33,
     "metadata": {},
     "output_type": "execute_result"
    }
   ],
   "source": [
    "print(gs_knn.best_score_)\n",
    "gs_knn.best_params_"
=======
      "Best score: 0.8564094905787188\n",
      "Best parameters: {'knn__n_neighbors': 5}\n"
     ]
    }
   ],
   "source": [
    "print(f'Best score: {gs_knn.best_score_}')\n",
    "print(f'Best parameters: {gs_knn.best_params_}')"
>>>>>>> upstream/main
   ]
  },
  {
   "cell_type": "code",
<<<<<<< HEAD
   "execution_count": 34,
=======
   "execution_count": 12,
>>>>>>> upstream/main
   "metadata": {},
   "outputs": [
    {
     "name": "stdout",
     "output_type": "stream",
     "text": [
<<<<<<< HEAD
      "knn Training RMSE: 1.1430855549727068\n",
      "knn Testing RMSE: 1.4479205383412166\n"
=======
      "Knn Training RMSE: 1.1507743538974573\n",
      "Knn Testing RMSE: 1.471999376903773\n",
      "Training R2: 0.9078905752959054\n",
      "Testing R2: 0.8391212017356469\n"
>>>>>>> upstream/main
     ]
    }
   ],
   "source": [
<<<<<<< HEAD
    "knn_preds_train = gs_knn.predict(Z_train)\n",
    "knn_preds_test = gs_knn.predict(Z_test)\n",
    "\n",
    "print(f'knn Training RMSE: {mean_squared_error(y_train, knn_preds_train, squared = False)}')\n",
    "print(f'knn Testing RMSE: {mean_squared_error(y_test, knn_preds_test, squared = False)}')"
   ]
  },
  {
   "cell_type": "code",
   "execution_count": 35,
   "metadata": {},
   "outputs": [
    {
     "name": "stdout",
     "output_type": "stream",
     "text": [
      "Training R2: 0.9061609510423924\n",
      "Testing R2: 0.8586202527205257\n"
     ]
    }
   ],
   "source": [
    "print(f'Training R2: {pipe_knn.score(Z_train, y_train)}')\n",
    "print(f'Testing R2: {pipe_knn.score(Z_test, y_test)}')"
=======
    "knn_preds_train = gs_knn.predict(Z_train_rf)\n",
    "knn_preds_test = gs_knn.predict(Z_test_rf)\n",
    "\n",
    "print(f'Knn Training RMSE: {mean_squared_error(y_train_rf, knn_preds_train, squared = False)}')\n",
    "print(f'Knn Testing RMSE: {mean_squared_error(y_test_rf, knn_preds_test, squared = False)}')\n",
    "print(f'Training R2: {pipe_knn.score(Z_train_rf, y_train_rf)}')\n",
    "print(f'Testing R2: {pipe_knn.score(Z_test_rf, y_test_rf)}')"
   ]
  },
  {
   "cell_type": "markdown",
   "metadata": {},
   "source": [
    "**Quick Analysis**"
>>>>>>> upstream/main
   ]
  },
  {
   "cell_type": "markdown",
   "metadata": {},
   "source": [
<<<<<<< HEAD
    "**Quick Analysis**"
   ]
  },
  {
   "cell_type": "code",
   "execution_count": null,
   "metadata": {},
   "outputs": [],
   "source": []
  },
  {
   "cell_type": "code",
   "execution_count": null,
   "metadata": {},
   "outputs": [],
   "source": []
  },
  {
=======
    "RMSE does not beat linear regression for any value of k. This model could be better fit, but it is not close enough to production model to attempt."
   ]
  },
  {
>>>>>>> upstream/main
   "cell_type": "markdown",
   "metadata": {},
   "source": [
    "<a id='third'></a>\n",
    "### Model 3: Decision Tree"
   ]
  },
  {
   "cell_type": "code",
<<<<<<< HEAD
   "execution_count": 36,
=======
   "execution_count": 13,
>>>>>>> upstream/main
   "metadata": {},
   "outputs": [
    {
     "data": {
      "text/plain": [
       "dict_keys(['ccp_alpha', 'criterion', 'max_depth', 'max_features', 'max_leaf_nodes', 'min_impurity_decrease', 'min_impurity_split', 'min_samples_leaf', 'min_samples_split', 'min_weight_fraction_leaf', 'presort', 'random_state', 'splitter'])"
      ]
     },
<<<<<<< HEAD
     "execution_count": 36,
=======
     "execution_count": 13,
>>>>>>> upstream/main
     "metadata": {},
     "output_type": "execute_result"
    }
   ],
   "source": [
    "DecisionTreeRegressor().get_params().keys()"
   ]
  },
  {
   "cell_type": "code",
<<<<<<< HEAD
   "execution_count": 37,
=======
   "execution_count": 14,
>>>>>>> upstream/main
   "metadata": {},
   "outputs": [
    {
     "data": {
      "text/plain": [
       "{'ccp_alpha': 0.0,\n",
       " 'criterion': 'mse',\n",
       " 'max_depth': None,\n",
       " 'max_features': None,\n",
       " 'max_leaf_nodes': None,\n",
       " 'min_impurity_decrease': 0.0,\n",
       " 'min_impurity_split': None,\n",
       " 'min_samples_leaf': 1,\n",
       " 'min_samples_split': 2,\n",
       " 'min_weight_fraction_leaf': 0.0,\n",
       " 'presort': 'deprecated',\n",
       " 'random_state': None,\n",
       " 'splitter': 'best'}"
      ]
     },
<<<<<<< HEAD
     "execution_count": 37,
=======
     "execution_count": 14,
>>>>>>> upstream/main
     "metadata": {},
     "output_type": "execute_result"
    }
   ],
   "source": [
    "DecisionTreeRegressor().get_params()"
   ]
  },
  {
   "cell_type": "code",
<<<<<<< HEAD
   "execution_count": 94,
   "metadata": {},
   "outputs": [],
   "source": [
    "# Setting up the Pipeline/ GridSearch\n",
=======
   "execution_count": 15,
   "metadata": {},
   "outputs": [
    {
     "data": {
      "text/plain": [
       "GridSearchCV(cv=5, estimator=Pipeline(steps=[('dt', DecisionTreeRegressor())]),\n",
       "             param_grid={'dt__max_depth': [2, 4, 6, 8, 10, 12],\n",
       "                         'dt__max_features': ['auto', 'log2']})"
      ]
     },
     "execution_count": 15,
     "metadata": {},
     "output_type": "execute_result"
    }
   ],
   "source": [
    "# Pipeline and gridsearch\n",
>>>>>>> upstream/main
    "pipe_dt = Pipeline([\n",
    "    ('dt', DecisionTreeRegressor())\n",
    "])\n",
    "\n",
    "pipe_dt_params = {'dt__max_depth': [5, 10, None], \n",
    "                  'dt__max_features': ['auto', 'log2'], \n",
<<<<<<< HEAD
    "                'dt__max_depth': [2,4,6,8,10,12]\n",
    "                 }\n",
    "\n",
    "pipe_dt.fit(Z_train, y_train)\n",
    "gs_dt = GridSearchCV(pipe_dt, \n",
    "                        param_grid = pipe_dt_params, \n",
    "                        cv=5)\n",
    "\n",
    "gs_dt.fit(Z_train, y_train);"
=======
    "                  'dt__max_depth': [2,4,6,8,10,12]\n",
    "                 }\n",
    "\n",
    "pipe_dt.fit(Z_train_rf, y_train_rf)\n",
    "gs_dt = GridSearchCV(pipe_dt, \n",
    "                     param_grid = pipe_dt_params,\n",
    "                     cv = 5)\n",
    "\n",
    "gs_dt.fit(Z_train_rf, y_train_rf)"
>>>>>>> upstream/main
   ]
  },
  {
   "cell_type": "code",
<<<<<<< HEAD
   "execution_count": 53,
=======
   "execution_count": 16,
>>>>>>> upstream/main
   "metadata": {},
   "outputs": [
    {
     "name": "stdout",
     "output_type": "stream",
     "text": [
<<<<<<< HEAD
      "0.7869780193745138\n"
     ]
    },
    {
     "data": {
      "text/plain": [
       "{'dt__max_depth': 6, 'dt__max_features': 'auto'}"
      ]
     },
     "execution_count": 53,
     "metadata": {},
     "output_type": "execute_result"
    }
   ],
   "source": [
    "print(gs_dt.best_score_)\n",
    "gs_dt.best_params_"
=======
      "Best score: 0.8006722923279925\n",
      "Best parameters: {'dt__max_depth': 6, 'dt__max_features': 'auto'}\n"
     ]
    }
   ],
   "source": [
    "print(f'Best score: {gs_dt.best_score_}')\n",
    "print(f'Best parameters: {gs_dt.best_params_}')"
>>>>>>> upstream/main
   ]
  },
  {
   "cell_type": "code",
<<<<<<< HEAD
   "execution_count": 54,
=======
   "execution_count": 17,
>>>>>>> upstream/main
   "metadata": {},
   "outputs": [
    {
     "name": "stdout",
     "output_type": "stream",
     "text": [
<<<<<<< HEAD
      "dt Training RMSE: 1.1430855549727068\n",
      "dt Testing RMSE: 1.4479205383412166\n"
=======
      "Dt training RMSE: 1.1507743538974573\n",
      "Dt testing RMSE: 1.471999376903773\n",
      "Dt training R2: 1.0\n",
      "Dt testing R2: 0.7591221818824497\n"
>>>>>>> upstream/main
     ]
    }
   ],
   "source": [
<<<<<<< HEAD
    "dt_preds_train = gs_dt.predict(Z_train)\n",
    "dt_preds_test = gs_dt.predict(Z_test)\n",
    "\n",
    "print(f'dt Training RMSE: {mean_squared_error(y_train, knn_preds_train, squared = False)}')\n",
    "print(f'dt Testing RMSE: {mean_squared_error(y_test, knn_preds_test, squared = False)}')"
   ]
  },
  {
   "cell_type": "code",
   "execution_count": 55,
   "metadata": {},
   "outputs": [
    {
     "name": "stdout",
     "output_type": "stream",
     "text": [
      "Training R2: 1.0\n",
      "Testing R2: 0.7747778596742375\n"
     ]
    }
   ],
   "source": [
    "print(f'Training R2: {pipe_dt.score(Z_train, y_train)}')\n",
    "print(f'Testing R2: {pipe_dt.score(Z_test, y_test)}')"
=======
    "dt_preds_train = gs_dt.predict(Z_train_rf)\n",
    "dt_preds_test = gs_dt.predict(Z_test_rf)\n",
    "\n",
    "print(f'Dt training RMSE: {mean_squared_error(y_train_rf, knn_preds_train, squared = False)}')\n",
    "print(f'Dt testing RMSE: {mean_squared_error(y_test_rf, knn_preds_test, squared = False)}')\n",
    "print(f'Dt training R2: {pipe_dt.score(Z_train_rf, y_train_rf)}')\n",
    "print(f'Dt testing R2: {pipe_dt.score(Z_test_rf, y_test_rf)}')"
   ]
  },
  {
   "cell_type": "markdown",
   "metadata": {},
   "source": [
    "**Quick Analysis**"
>>>>>>> upstream/main
   ]
  },
  {
   "cell_type": "markdown",
   "metadata": {},
   "source": [
<<<<<<< HEAD
    "**Quick Analysis**"
   ]
  },
  {
   "cell_type": "code",
   "execution_count": null,
   "metadata": {},
   "outputs": [],
   "source": []
  },
  {
   "cell_type": "code",
   "execution_count": null,
   "metadata": {},
   "outputs": [],
   "source": []
  },
  {
=======
    "RMSE does not beat linear regression for any combination of hyperparameters. This model is very overfit, but it is not close enough to production model to attempt.\n",
    "DT Regressor shows significant overfitting.  This can be resolved by increasing bias/ reducing the number of features utilized, including a Random Forest analysis, etc. But, with the relative scores and development of the production model, this model was abandoned."
   ]
  },
  {
>>>>>>> upstream/main
   "cell_type": "markdown",
   "metadata": {},
   "source": [
    "<a id='fourth'></a>\n",
    "### Model 4: PolynomialFeatures with StandardScalar and Linear Regression"
   ]
  },
  {
   "cell_type": "code",
<<<<<<< HEAD
   "execution_count": 58,
   "metadata": {},
   "outputs": [],
   "source": [
    "features = ['percent_children_in_poverty', 'percent_below_poverty', 'percent_fair_or_poor_health',\n",
    "            'pct_overall_pov_19','percentile_rank_social_vulnerability']\n",
    "\n",
    "X = df[features]\n",
    "y = df['fi_rate_18']\n",
    "\n",
    "X_train, X_test, y_train, y_test = train_test_split(X,\n",
    "                                                    y,\n",
    "                                                    random_state=42)\n",
    "pf = PolynomialFeatures(degree=2)\n",
    "X_train_pf = pf.fit_transform(X_train)\n",
    "X_test_pf = pf.transform(X_test)\n",
    "\n",
    "\n"
=======
   "execution_count": 18,
   "metadata": {},
   "outputs": [],
   "source": [
    "poly_features = ['percent_children_in_poverty', 'percent_below_poverty', 'percent_fair_or_poor_health',\n",
    "                 'pct_overall_pov_19','percentile_rank_social_vulnerability']\n",
    "\n",
    "X_rf = df_rf[poly_features]\n",
    "y_rf = df_rf['fi_rate_18']\n",
    "\n",
    "X_train, X_test, y_train, y_test = train_test_split(X_rf,\n",
    "                                                    y_rf,\n",
    "                                                    random_state = 1)\n",
    "pf = PolynomialFeatures(degree = 2)\n",
    "X_train_pf = pf.fit_transform(X_train)\n",
    "X_test_pf = pf.transform(X_test)"
>>>>>>> upstream/main
   ]
  },
  {
   "cell_type": "code",
<<<<<<< HEAD
   "execution_count": 59,
=======
   "execution_count": 19,
>>>>>>> upstream/main
   "metadata": {},
   "outputs": [
    {
     "data": {
      "text/plain": [
       "(dict_keys(['copy_X', 'fit_intercept', 'n_jobs', 'normalize']),\n",
       " dict_keys(['degree', 'include_bias', 'interaction_only', 'order']))"
      ]
     },
<<<<<<< HEAD
     "execution_count": 59,
=======
     "execution_count": 19,
>>>>>>> upstream/main
     "metadata": {},
     "output_type": "execute_result"
    }
   ],
   "source": [
    "LinearRegression().get_params().keys(), PolynomialFeatures().get_params().keys()"
   ]
  },
  {
   "cell_type": "code",
<<<<<<< HEAD
   "execution_count": 60,
=======
   "execution_count": 20,
   "metadata": {},
   "outputs": [
    {
     "data": {
      "text/plain": [
       "GridSearchCV(cv=5,\n",
       "             estimator=Pipeline(steps=[('ss', StandardScaler()),\n",
       "                                       ('lr', LinearRegression())]),\n",
       "             param_grid={'lr__fit_intercept': [True, False],\n",
       "                         'lr__normalize': [True, False]})"
      ]
     },
     "execution_count": 20,
     "metadata": {},
     "output_type": "execute_result"
    }
   ],
   "source": [
    "# Pipeline and gridsearch\n",
    "pipe_poly_lr = Pipeline([\n",
    "    ('ss', StandardScaler()),\n",
    "    ('lr', LinearRegression()),\n",
    "])\n",
    "\n",
    "pipe_poly_lr_params = {'lr__normalize': [True, False],\n",
    "                       'lr__fit_intercept': [True, False]\n",
    "                  }\n",
    "\n",
    "pipe_poly_lr.fit(X_train_pf, y_train)\n",
    "gs_poly_lr = GridSearchCV(pipe_poly_lr, \n",
    "                        param_grid = pipe_poly_lr_params, \n",
    "                        cv = 5)\n",
    "\n",
    "gs_poly_lr.fit(X_train_pf, y_train)"
   ]
  },
  {
   "cell_type": "code",
   "execution_count": 21,
>>>>>>> upstream/main
   "metadata": {},
   "outputs": [
    {
     "name": "stdout",
     "output_type": "stream",
     "text": [
<<<<<<< HEAD
      "ln Training RMSE: 1.652341472472501\n",
      "ln Testing RMSE: 1.692077560336421\n",
      "Training R2: 0.8039234164197737\n",
      "Testing R2: 0.8069195616440654\n"
     ]
    },
=======
      "Best score: 0.8074070574459841\n",
      "Best parameters: {'lr__fit_intercept': True, 'lr__normalize': True}\n"
     ]
    }
   ],
   "source": [
    "print(f'Best score: {gs_poly_lr.best_score_}')\n",
    "print(f'Best parameters: {gs_poly_lr.best_params_}')"
   ]
  },
  {
   "cell_type": "code",
   "execution_count": 22,
   "metadata": {},
   "outputs": [
    {
     "name": "stdout",
     "output_type": "stream",
     "text": [
      "Poly lr Training RMSE: 1.6383377507745998\n",
      "Poly lr Testing RMSE: 1.7307918859845968\n",
      "Poly lr Training R2: 0.8133058982899347\n",
      "Poly lr Testing R2: 0.7775802940495056\n"
     ]
    }
   ],
   "source": [
    "# Reinstantiate pipe_poly_lr with gridsearched parameters\n",
    "pipe_poly_lr = Pipeline([\n",
    "    ('ss', StandardScaler()),\n",
    "    ('lr', LinearRegression(fit_intercept = True, normalize = True))\n",
    "])\n",
    "pipe_poly_lr = pipe_lr.fit(Z_train_mean, y_train_mean) \n",
    "\n",
    "lr_poly_preds_train = gs_poly_lr.predict(X_train_pf)\n",
    "lr_poly_preds_test = gs_poly_lr.predict(X_test_pf)\n",
    "\n",
    "print(f'Poly lr Training RMSE: {mean_squared_error(y_train, lr_poly_preds_train, squared = False)}')\n",
    "print(f'Poly lr Testing RMSE: {mean_squared_error(y_test, lr_poly_preds_test, squared = False)}')\n",
    "print(f'Poly lr Training R2: {gs_poly_lr.score(X_train_pf, y_train)}')\n",
    "print(f'Poly lr Testing R2: {gs_poly_lr.score(X_test_pf, y_test)}')"
   ]
  },
  {
   "cell_type": "code",
   "execution_count": 23,
   "metadata": {},
   "outputs": [
>>>>>>> upstream/main
    {
     "data": {
      "text/html": [
       "<div>\n",
       "<style scoped>\n",
       "    .dataframe tbody tr th:only-of-type {\n",
       "        vertical-align: middle;\n",
       "    }\n",
       "\n",
       "    .dataframe tbody tr th {\n",
       "        vertical-align: top;\n",
       "    }\n",
       "\n",
       "    .dataframe thead th {\n",
       "        text-align: right;\n",
       "    }\n",
       "</style>\n",
       "<table border=\"1\" class=\"dataframe\">\n",
       "  <thead>\n",
       "    <tr style=\"text-align: right;\">\n",
       "      <th></th>\n",
       "      <th>features</th>\n",
       "      <th>coefficients</th>\n",
       "    </tr>\n",
       "  </thead>\n",
       "  <tbody>\n",
       "    <tr>\n",
<<<<<<< HEAD
       "      <th>3</th>\n",
       "      <td>pct_overall_pov_19</td>\n",
       "      <td>2.285601</td>\n",
       "    </tr>\n",
       "    <tr>\n",
       "      <th>1</th>\n",
       "      <td>percent_below_poverty</td>\n",
       "      <td>1.365929</td>\n",
       "    </tr>\n",
       "    <tr>\n",
       "      <th>4</th>\n",
       "      <td>percentile_rank_social_vulnerability</td>\n",
       "      <td>0.095530</td>\n",
       "    </tr>\n",
       "    <tr>\n",
       "      <th>2</th>\n",
       "      <td>percent_fair_or_poor_health</td>\n",
       "      <td>0.051696</td>\n",
       "    </tr>\n",
       "    <tr>\n",
       "      <th>0</th>\n",
       "      <td>percent_children_in_poverty</td>\n",
       "      <td>0.000000</td>\n",
=======
       "      <th>44</th>\n",
       "      <td>percent_disabled</td>\n",
       "      <td>0.844686</td>\n",
       "    </tr>\n",
       "    <tr>\n",
       "      <th>16</th>\n",
       "      <td>percent_children_in_poverty</td>\n",
       "      <td>0.564253</td>\n",
       "    </tr>\n",
       "    <tr>\n",
       "      <th>5</th>\n",
       "      <td>percent_fair_or_poor_health</td>\n",
       "      <td>0.367634</td>\n",
       "    </tr>\n",
       "    <tr>\n",
       "      <th>28</th>\n",
       "      <td>percent_severe_housing_cost_burden</td>\n",
       "      <td>0.330053</td>\n",
       "    </tr>\n",
       "    <tr>\n",
       "      <th>39</th>\n",
       "      <td>percent_below_poverty</td>\n",
       "      <td>0.229229</td>\n",
       "    </tr>\n",
       "    <tr>\n",
       "      <th>18</th>\n",
       "      <td>percent_single_parent_households_CHR</td>\n",
       "      <td>0.174989</td>\n",
       "    </tr>\n",
       "    <tr>\n",
       "      <th>20</th>\n",
       "      <td>percent_severe_housing_problems</td>\n",
       "      <td>0.174969</td>\n",
       "    </tr>\n",
       "    <tr>\n",
       "      <th>17</th>\n",
       "      <td>num_households_CHR</td>\n",
       "      <td>0.157639</td>\n",
       "    </tr>\n",
       "    <tr>\n",
       "      <th>6</th>\n",
       "      <td>average_number_of_mentally_unhealthy_days</td>\n",
       "      <td>0.148209</td>\n",
       "    </tr>\n",
       "    <tr>\n",
       "      <th>40</th>\n",
       "      <td>percent_unemployed_CDC</td>\n",
       "      <td>0.146774</td>\n",
>>>>>>> upstream/main
       "    </tr>\n",
       "  </tbody>\n",
       "</table>\n",
       "</div>"
      ],
      "text/plain": [
<<<<<<< HEAD
       "                               features  coefficients\n",
       "3                    pct_overall_pov_19      2.285601\n",
       "1                 percent_below_poverty      1.365929\n",
       "4  percentile_rank_social_vulnerability      0.095530\n",
       "2           percent_fair_or_poor_health      0.051696\n",
       "0           percent_children_in_poverty      0.000000"
      ]
     },
     "execution_count": 60,
=======
       "                                     features  coefficients\n",
       "44                           percent_disabled      0.844686\n",
       "16                percent_children_in_poverty      0.564253\n",
       "5                 percent_fair_or_poor_health      0.367634\n",
       "28         percent_severe_housing_cost_burden      0.330053\n",
       "39                      percent_below_poverty      0.229229\n",
       "18       percent_single_parent_households_CHR      0.174989\n",
       "20            percent_severe_housing_problems      0.174969\n",
       "17                         num_households_CHR      0.157639\n",
       "6   average_number_of_mentally_unhealthy_days      0.148209\n",
       "40                     percent_unemployed_CDC      0.146774"
      ]
     },
     "execution_count": 23,
>>>>>>> upstream/main
     "metadata": {},
     "output_type": "execute_result"
    }
   ],
   "source": [
<<<<<<< HEAD
    "# Setting up the Pipeline/ GridSearch\n",
    "pipe_ln = Pipeline([\n",
    "    ('ss', StandardScaler()),\n",
    "    ('ln', LinearRegression()),\n",
    "#     ('model', LassoCV())\n",
    "])\n",
    "pipe_ln_params = {'ln__normalize':[True, False],\n",
    "                  'ln__fit_intercept':[True, False]\n",
    "#                   'model__alpha':[0.001, 0.01, 0.1],\n",
    "#                   'model__max_iter':[1000, 2000],\n",
    "#                   'model__normalize':[True, False]\n",
    "                  }\n",
    "\n",
    "pipe_ln.fit(X_train_pf, y_train)\n",
    "gs_ln = GridSearchCV(pipe_ln, \n",
    "                        param_grid = pipe_ln_params, \n",
    "                        cv=5)\n",
    "\n",
    "gs_ln.fit(X_train_pf, y_train);\n",
    "\n",
    "ln_preds_train = gs_ln.predict(X_train_pf)\n",
    "ln_preds_test = gs_ln.predict(X_test_pf)\n",
    "print(f'ln Training RMSE: {mean_squared_error(y_train, ln_preds_train, squared = False)}')\n",
    "print(f'ln Testing RMSE: {mean_squared_error(y_test, ln_preds_test, squared = False)}')\n",
    "print(f'Training R2: {pipe_ln.score(X_train_pf, y_train)}')\n",
    "print(f'Testing R2: {pipe_ln.score(X_test_pf, y_test)}')\n",
    "\n",
    "feature_names = features\n",
    "coefs_ln = pipe_ln.named_steps['ln'].coef_.flatten()\n",
    "model_zip = zip(feature_names, coefs_ln)\n",
    "model_zip_df = pd.DataFrame(model_zip, columns = ['features', 'coefficients'])\n",
    "model_zip_df.sort_values(by = 'coefficients', ascending = False)"
   ]
  },
  {
   "cell_type": "code",
   "execution_count": 61,
   "metadata": {},
   "outputs": [
    {
     "name": "stdout",
     "output_type": "stream",
     "text": [
      "0.7976139661653221\n"
     ]
    },
    {
     "data": {
      "text/plain": [
       "{'ln__fit_intercept': True, 'ln__normalize': True}"
      ]
     },
     "execution_count": 61,
     "metadata": {},
     "output_type": "execute_result"
    }
   ],
   "source": [
    "print(gs_ln.best_score_)\n",
    "gs_ln.best_params_"
=======
    "# Show ten strongest features for best testing model\n",
    "coefs_lr_poly = pipe_poly_lr.named_steps['lr'].coef_.flatten()\n",
    "model_zip = zip(feature_names_dummified, coefs_lr_poly)\n",
    "model_zip_df = pd.DataFrame(model_zip, columns = ['features', 'coefficients'])\n",
    "model_zip_df.sort_values(by = 'coefficients', ascending = False).head(10)"
>>>>>>> upstream/main
   ]
  },
  {
   "cell_type": "markdown",
   "metadata": {},
   "source": [
    "**Will Lasso Improve our Score?**"
   ]
  },
  {
   "cell_type": "code",
<<<<<<< HEAD
   "execution_count": 64,
=======
   "execution_count": 24,
>>>>>>> upstream/main
   "metadata": {},
   "outputs": [
    {
     "data": {
      "text/plain": [
       "LassoCV(max_iter=15000)"
      ]
     },
<<<<<<< HEAD
     "execution_count": 64,
=======
     "execution_count": 24,
>>>>>>> upstream/main
     "metadata": {},
     "output_type": "execute_result"
    }
   ],
   "source": [
<<<<<<< HEAD
    "lasso=LassoCV(max_iter=15000 )\n",
=======
    "lasso = LassoCV(max_iter = 15000 )\n",
>>>>>>> upstream/main
    "lasso.fit(X_train_pf, y_train)"
   ]
  },
  {
   "cell_type": "code",
<<<<<<< HEAD
   "execution_count": 65,
=======
   "execution_count": 25,
>>>>>>> upstream/main
   "metadata": {},
   "outputs": [
    {
     "name": "stdout",
     "output_type": "stream",
     "text": [
<<<<<<< HEAD
      "Lasso CV Training R=Squared: 0.7573510458114212\n",
      "Lasso CV Testing R=Squared: 0.7827335296909608\n"
=======
      "Lasso CV Training RMSE: 1.8290381142003298\n",
      "Lasso CV Training RMSE: 1.8633380988879227\n",
      "Lasso CV Training R2: 0.7673145477251164\n",
      "Lasso CV Testing R2: 0.7422095118120988\n"
>>>>>>> upstream/main
     ]
    }
   ],
   "source": [
<<<<<<< HEAD
    "print(f\"Lasso CV Training R=Squared: {lasso.score(X_train_pf, y_train)}\")\n",
    "print(f\"Lasso CV Testing R=Squared: {lasso.score(X_test_pf, y_test)}\")"
=======
    "lasso_preds_train = lasso.predict(X_train_pf)\n",
    "lasso_preds_test = lasso.predict(X_test_pf)\n",
    "\n",
    "print(f'Lasso CV Training RMSE: {mean_squared_error(y_train, lasso_preds_train, squared = False)}')\n",
    "print(f'Lasso CV Training RMSE: {mean_squared_error(y_test, lasso_preds_test, squared = False)}')\n",
    "print(f\"Lasso CV Training R2: {lasso.score(X_train_pf, y_train)}\")\n",
    "print(f\"Lasso CV Testing R2: {lasso.score(X_test_pf, y_test)}\")"
>>>>>>> upstream/main
   ]
  },
  {
   "cell_type": "markdown",
   "metadata": {},
   "source": [
    "**Quick Analysis**"
   ]
  },
  {
<<<<<<< HEAD
   "cell_type": "code",
   "execution_count": null,
   "metadata": {},
   "outputs": [],
   "source": []
  },
  {
   "cell_type": "code",
   "execution_count": null,
   "metadata": {},
   "outputs": [],
   "source": []
  },
  {
   "cell_type": "markdown",
   "metadata": {},
   "source": [
    "<a id='fifth'></a>\n",
    "### Model 5: ADA Boost"
   ]
  },
  {
   "cell_type": "code",
   "execution_count": 67,
   "metadata": {},
   "outputs": [],
   "source": [
    "features = df.drop(columns = ['ch_fi_rate_18', 'fi_rate_18', 'cpm_18', \n",
    "                       'state_abr', 'state_name', 'fips', 'county'])\n",
    "\n"
=======
   "cell_type": "markdown",
   "metadata": {},
   "source": [
    "RMSE does not beat linear regression for any combination of hyperparameters with poly features. No improvement with lasso and though this model is very overfit, but it is not close enough to production model to attempt.\n",
    "With several different numbers of features tested, adding Lasso, and running a gridseearched pipeline not improving the results, PolynomialFeatures was not selected as the produciton model. It just couldn't out-perform.  We did believe that adding additional engineer features/ feature pairs would increase the performance. But, it did not. "
   ]
  },
  {
   "cell_type": "markdown",
   "metadata": {},
   "source": [
    "<a id='fifth'></a>\n",
    "### Model 5: ADA Boost"
>>>>>>> upstream/main
   ]
  },
  {
   "cell_type": "markdown",
   "metadata": {},
   "source": [
    "#### Setting Feature and Target Variables\n",
    "**Scaling and Train-Test-Split**"
   ]
  },
  {
   "cell_type": "code",
<<<<<<< HEAD
   "execution_count": 68,
   "metadata": {},
   "outputs": [],
   "source": [
    "X = features\n",
    "y = df['fi_rate_18']\n",
    "X_train, X_test, y_train, y_test = train_test_split(X,\n",
    "                                                    y,\n",
    "                                                    random_state=42)\n",
    "\n",
    "ss = StandardScaler()\n",
    "Z_train = ss.fit_transform(X_train)\n",
    "Z_test = ss.transform(X_test)"
   ]
  },
  {
   "cell_type": "code",
   "execution_count": 69,
   "metadata": {},
   "outputs": [],
   "source": [
    "# random seed for the rest of the notebook\n",
    "np.random.seed(42)"
   ]
  },
  {
   "cell_type": "code",
   "execution_count": 70,
=======
   "execution_count": 26,
>>>>>>> upstream/main
   "metadata": {},
   "outputs": [
    {
     "data": {
      "text/plain": [
       "dict_keys(['base_estimator', 'learning_rate', 'loss', 'n_estimators', 'random_state'])"
      ]
     },
<<<<<<< HEAD
     "execution_count": 70,
=======
     "execution_count": 26,
>>>>>>> upstream/main
     "metadata": {},
     "output_type": "execute_result"
    }
   ],
   "source": [
<<<<<<< HEAD
    "AdaBoostRegressor().get_params().keys()\n"
=======
    "# Set random seed\n",
    "np.random.seed(42)\n",
    "AdaBoostRegressor().get_params().keys()"
>>>>>>> upstream/main
   ]
  },
  {
   "cell_type": "code",
<<<<<<< HEAD
   "execution_count": 71,
   "metadata": {},
   "outputs": [],
   "source": [
    "pipe_ada = Pipeline([\n",
    "    ('ada', AdaBoostRegressor())\n",
    "])\n"
   ]
  },
  {
   "cell_type": "code",
   "execution_count": 72,
   "metadata": {},
   "outputs": [],
   "source": [
    "# https://subscription.packtpub.com/book/big_data_and_business_intelligence/9781787286382/9/ch09lvl1sec95/tuning-an-adaboost-regressor\n",
    "pipe_ada_params = {  \n",
    " 'ada__n_estimators': [100, 150, 200],\n",
    " 'ada__learning_rate' : [1, 5, 10],\n",
    " 'ada__loss' : ['linear', 'square', 'exponential']\n",
    "}\n"
   ]
  },
  {
   "cell_type": "code",
   "execution_count": 73,
   "metadata": {},
   "outputs": [],
   "source": [
    "pipe_ada.fit(Z_train, y_train)\n",
    "gs_ada = GridSearchCV(pipe_ada, \n",
    "                        param_grid = pipe_ada_params, \n",
    "                        cv=5)"
=======
   "execution_count": 27,
   "metadata": {},
   "outputs": [
    {
     "data": {
      "text/plain": [
       "GridSearchCV(cv=5, estimator=Pipeline(steps=[('ada', AdaBoostRegressor())]),\n",
       "             param_grid={'ada__learning_rate': [1, 5, 10],\n",
       "                         'ada__loss': ['linear', 'square', 'exponential'],\n",
       "                         'ada__n_estimators': [100, 150, 200]})"
      ]
     },
     "execution_count": 27,
     "metadata": {},
     "output_type": "execute_result"
    }
   ],
   "source": [
    "# Pipeline and gridsearch\n",
    "pipe_ada = Pipeline([\n",
    "    ('ada', AdaBoostRegressor())\n",
    "])\n",
    "\n",
    "# Credit from subscription.packtub - https://subscription.packtpub.com/book/big_data_and_business_intelligence/9781787286382/9/ch09lvl1sec95/tuning-an-adaboost-regressor\n",
    "pipe_ada_params = {\n",
    "    'ada__n_estimators': [100, 150, 200],\n",
    "    'ada__learning_rate' : [1, 5, 10],\n",
    "    'ada__loss' : ['linear', 'square', 'exponential']\n",
    "}\n",
    "\n",
    "pipe_ada.fit(Z_train_rf, y_train_rf)\n",
    "gs_ada = GridSearchCV(pipe_ada, \n",
    "                        param_grid = pipe_ada_params, \n",
    "                        cv = 5)\n",
    "\n",
    "gs_ada.fit(Z_train_rf, y_train_rf)"
>>>>>>> upstream/main
   ]
  },
  {
   "cell_type": "code",
<<<<<<< HEAD
   "execution_count": 77,
=======
   "execution_count": 28,
>>>>>>> upstream/main
   "metadata": {},
   "outputs": [
    {
     "name": "stdout",
     "output_type": "stream",
     "text": [
<<<<<<< HEAD
      "{'ada__learning_rate': 1, 'ada__loss': 'square', 'ada__n_estimators': 200}\n"
=======
      "Best score: 0.870771561472685\n",
      "Best parameters: {'ada__learning_rate': 5, 'ada__loss': 'exponential', 'ada__n_estimators': 150}\n"
>>>>>>> upstream/main
     ]
    }
   ],
   "source": [
<<<<<<< HEAD
    "print(gs_ada.best_params_)"
   ]
  },
  {
   "cell_type": "code",
   "execution_count": 78,
   "metadata": {},
   "outputs": [],
   "source": [
    "gs_ada.fit(Z_train, y_train);"
   ]
  },
  {
   "cell_type": "code",
   "execution_count": 79,
   "metadata": {},
   "outputs": [],
   "source": [
    "ada_preds_train = gs_ada.predict(Z_train)\n",
    "ada_preds_test = gs_ada.predict(Z_test)"
=======
    "print(f'Best score: {gs_ada.best_score_}')\n",
    "print(f'Best parameters: {gs_ada.best_params_}')"
>>>>>>> upstream/main
   ]
  },
  {
   "cell_type": "code",
<<<<<<< HEAD
   "execution_count": 80,
=======
   "execution_count": 29,
>>>>>>> upstream/main
   "metadata": {},
   "outputs": [
    {
     "name": "stdout",
     "output_type": "stream",
     "text": [
<<<<<<< HEAD
      "AdaBoost Training RMSE: 1.2773228209775374\n",
      "AdaBoost Testing RMSE: 1.452327363310606\n",
      "Training R2: 0.8748507243766415\n",
      "Testing R2: 0.846666164902464\n"
=======
      "AdaBoost Training RMSE: 1.2595210458115744\n",
      "AdaBoost Testing RMSE: 1.455008375899492\n",
      "Training R2: 0.8867648066871314\n",
      "Testing R2: 0.8353152053922577\n"
>>>>>>> upstream/main
     ]
    }
   ],
   "source": [
<<<<<<< HEAD
    "print(f'AdaBoost Training RMSE: {mean_squared_error(y_train, ada_preds_train, squared = False)}')\n",
    "print(f'AdaBoost Testing RMSE: {mean_squared_error(y_test, ada_preds_test, squared = False)}')\n",
    "print(f'Training R2: {pipe_ada.score(Z_train, y_train)}')\n",
    "print(f'Testing R2: {pipe_ada.score(Z_test, y_test)}')"
=======
    "# Reinstantiate pipe_ada with gridsearched parameters\n",
    "pipe_ada = Pipeline([\n",
    "    ('ada', AdaBoostRegressor(learning_rate = 5, loss = 'exponential', n_estimators = 150))\n",
    "])\n",
    "pipe_ada = pipe_ada.fit(Z_train_mean, y_train_mean)\n",
    "\n",
    "ada_preds_train = gs_ada.predict(Z_train_rf)\n",
    "ada_preds_test = gs_ada.predict(Z_test_rf)\n",
    "\n",
    "print(f'AdaBoost Training RMSE: {mean_squared_error(y_train_rf, ada_preds_train, squared = False)}')\n",
    "print(f'AdaBoost Testing RMSE: {mean_squared_error(y_test_rf, ada_preds_test, squared = False)}')\n",
    "print(f'Training R2: {pipe_ada.score(Z_train_rf, y_train_rf)}')\n",
    "print(f'Testing R2: {pipe_ada.score(Z_test_rf, y_test_rf)}')"
>>>>>>> upstream/main
   ]
  },
  {
   "cell_type": "code",
<<<<<<< HEAD
   "execution_count": 81,
=======
   "execution_count": 30,
>>>>>>> upstream/main
   "metadata": {},
   "outputs": [
    {
     "data": {
      "text/html": [
       "<div>\n",
       "<style scoped>\n",
       "    .dataframe tbody tr th:only-of-type {\n",
       "        vertical-align: middle;\n",
       "    }\n",
       "\n",
       "    .dataframe tbody tr th {\n",
       "        vertical-align: top;\n",
       "    }\n",
       "\n",
       "    .dataframe thead th {\n",
       "        text-align: right;\n",
       "    }\n",
       "</style>\n",
       "<table border=\"1\" class=\"dataframe\">\n",
       "  <thead>\n",
       "    <tr style=\"text-align: right;\">\n",
       "      <th></th>\n",
       "      <th>features</th>\n",
       "      <th>coefficients</th>\n",
       "    </tr>\n",
       "  </thead>\n",
       "  <tbody>\n",
       "    <tr>\n",
<<<<<<< HEAD
       "      <th>16</th>\n",
       "      <td>percent_children_in_poverty</td>\n",
       "      <td>0.193044</td>\n",
       "    </tr>\n",
       "    <tr>\n",
       "      <th>39</th>\n",
       "      <td>percent_below_poverty</td>\n",
       "      <td>0.151260</td>\n",
       "    </tr>\n",
       "    <tr>\n",
       "      <th>48</th>\n",
       "      <td>pct_overall_pov_19</td>\n",
       "      <td>0.133538</td>\n",
=======
       "      <th>39</th>\n",
       "      <td>percent_below_poverty</td>\n",
       "      <td>0.192617</td>\n",
       "    </tr>\n",
       "    <tr>\n",
       "      <th>16</th>\n",
       "      <td>percent_children_in_poverty</td>\n",
       "      <td>0.138434</td>\n",
       "    </tr>\n",
       "    <tr>\n",
       "      <th>6</th>\n",
       "      <td>average_number_of_mentally_unhealthy_days</td>\n",
       "      <td>0.078175</td>\n",
       "    </tr>\n",
       "    <tr>\n",
       "      <th>47</th>\n",
       "      <td>percentile_rank_social_vulnerability</td>\n",
       "      <td>0.075379</td>\n",
>>>>>>> upstream/main
       "    </tr>\n",
       "    <tr>\n",
       "      <th>22</th>\n",
       "      <td>life_expectancy</td>\n",
<<<<<<< HEAD
       "      <td>0.075478</td>\n",
       "    </tr>\n",
       "    <tr>\n",
       "      <th>25</th>\n",
       "      <td>median_household_income</td>\n",
       "      <td>0.062817</td>\n",
       "    </tr>\n",
       "    <tr>\n",
       "      <th>47</th>\n",
       "      <td>percentile_rank_social_vulnerability</td>\n",
       "      <td>0.058584</td>\n",
       "    </tr>\n",
       "    <tr>\n",
       "      <th>6</th>\n",
       "      <td>average_number_of_mentally_unhealthy_days</td>\n",
       "      <td>0.058199</td>\n",
=======
       "      <td>0.063503</td>\n",
       "    </tr>\n",
       "    <tr>\n",
       "      <th>48</th>\n",
       "      <td>pct_overall_pov_19</td>\n",
       "      <td>0.061981</td>\n",
       "    </tr>\n",
       "    <tr>\n",
       "      <th>25</th>\n",
       "      <td>median_household_income</td>\n",
       "      <td>0.056408</td>\n",
>>>>>>> upstream/main
       "    </tr>\n",
       "    <tr>\n",
       "      <th>44</th>\n",
       "      <td>percent_disabled</td>\n",
<<<<<<< HEAD
       "      <td>0.048597</td>\n",
       "    </tr>\n",
       "    <tr>\n",
       "      <th>5</th>\n",
       "      <td>percent_fair_or_poor_health</td>\n",
       "      <td>0.039349</td>\n",
=======
       "      <td>0.050518</td>\n",
>>>>>>> upstream/main
       "    </tr>\n",
       "    <tr>\n",
       "      <th>40</th>\n",
       "      <td>percent_unemployed_CDC</td>\n",
<<<<<<< HEAD
       "      <td>0.036158</td>\n",
=======
       "      <td>0.036529</td>\n",
       "    </tr>\n",
       "    <tr>\n",
       "      <th>5</th>\n",
       "      <td>percent_fair_or_poor_health</td>\n",
       "      <td>0.034874</td>\n",
>>>>>>> upstream/main
       "    </tr>\n",
       "  </tbody>\n",
       "</table>\n",
       "</div>"
      ],
      "text/plain": [
       "                                     features  coefficients\n",
<<<<<<< HEAD
       "16                percent_children_in_poverty      0.193044\n",
       "39                      percent_below_poverty      0.151260\n",
       "48                         pct_overall_pov_19      0.133538\n",
       "22                            life_expectancy      0.075478\n",
       "25                    median_household_income      0.062817\n",
       "47       percentile_rank_social_vulnerability      0.058584\n",
       "6   average_number_of_mentally_unhealthy_days      0.058199\n",
       "44                           percent_disabled      0.048597\n",
       "5                 percent_fair_or_poor_health      0.039349\n",
       "40                     percent_unemployed_CDC      0.036158"
      ]
     },
     "execution_count": 81,
=======
       "39                      percent_below_poverty      0.192617\n",
       "16                percent_children_in_poverty      0.138434\n",
       "6   average_number_of_mentally_unhealthy_days      0.078175\n",
       "47       percentile_rank_social_vulnerability      0.075379\n",
       "22                            life_expectancy      0.063503\n",
       "48                         pct_overall_pov_19      0.061981\n",
       "25                    median_household_income      0.056408\n",
       "44                           percent_disabled      0.050518\n",
       "40                     percent_unemployed_CDC      0.036529\n",
       "5                 percent_fair_or_poor_health      0.034874"
      ]
     },
     "execution_count": 30,
>>>>>>> upstream/main
     "metadata": {},
     "output_type": "execute_result"
    }
   ],
   "source": [
<<<<<<< HEAD
    "feature_names = features\n",
    "coefs_ada = pipe_ada.named_steps['ada'].feature_importances_\n",
    "model_zip = zip(feature_names, coefs_ada)\n",
=======
    "# Show ten strongest features for best testing model\n",
    "coefs_ada = pipe_ada.named_steps['ada'].feature_importances_\n",
    "model_zip = zip(feature_names_dummified, coefs_ada)\n",
>>>>>>> upstream/main
    "model_zip_df = pd.DataFrame(model_zip, columns = ['features', 'coefficients'])\n",
    "model_zip_df.sort_values(by = 'coefficients', ascending = False).head(10)"
   ]
  },
  {
   "cell_type": "markdown",
   "metadata": {},
   "source": [
    "**Quick Analysis**"
   ]
  },
  {
<<<<<<< HEAD
   "cell_type": "code",
   "execution_count": null,
   "metadata": {},
   "outputs": [],
   "source": []
  },
  {
   "cell_type": "code",
   "execution_count": null,
   "metadata": {},
   "outputs": [],
   "source": []
=======
   "cell_type": "markdown",
   "metadata": {},
   "source": [
    "RMSE does not beat linear regression for any combination of hyperparameters. This model is again overfit, but it is not close enough to production model to attempt.\n",
    "ADA Boost performed well with our data. It only showed slight signs of overfitting, which was expected.  Being a sequential learners, ADA Boost does a great job combine weaker features to enhance scores and generate different models sequentially, learning the mistakes of some runs to enhance results of the final output. The coefficients are not as easily interpreted, and since the score could not improve above our production model, and it's slow to run, it was dropped. "
   ]
>>>>>>> upstream/main
  },
  {
   "cell_type": "markdown",
   "metadata": {},
   "source": [
    "<a id='sixth'></a>\n",
    "### Model 6: Support Vector Machines"
   ]
  },
  {
   "cell_type": "code",
<<<<<<< HEAD
   "execution_count": 23,
=======
   "execution_count": 31,
>>>>>>> upstream/main
   "metadata": {},
   "outputs": [
    {
     "data": {
      "text/plain": [
       "dict_keys(['C', 'cache_size', 'coef0', 'degree', 'epsilon', 'gamma', 'kernel', 'max_iter', 'shrinking', 'tol', 'verbose'])"
      ]
     },
<<<<<<< HEAD
     "execution_count": 23,
=======
     "execution_count": 31,
>>>>>>> upstream/main
     "metadata": {},
     "output_type": "execute_result"
    }
   ],
   "source": [
    "SVR().get_params().keys()"
   ]
  },
  {
   "cell_type": "code",
<<<<<<< HEAD
   "execution_count": 87,
   "metadata": {},
   "outputs": [],
   "source": [
    "# Setting up Pipeling and GridSearch\n",
    "pipe_svr = Pipeline([\n",
    "    ('svr', SVR(kernel='linear'))\n",
    "])\n",
    "\n",
    "\n",
    "pipe_svr_params = {  \n",
    " 'svr__C': [.01, .1, 1, 10, 100]\n",
    "}\n",
    "\n",
    "\n",
    "pipe_svr.fit(Z_train, y_train)\n",
    "gs_svr = GridSearchCV(pipe_svr, \n",
    "                        param_grid = pipe_svr_params, \n",
    "                        cv=5,\n",
    "                        n_jobs=4\n",
    ")"
   ]
  },
  {
   "cell_type": "code",
   "execution_count": 88,
   "metadata": {},
   "outputs": [],
   "source": [
    "gs_svr.fit(Z_train, y_train);"
=======
   "execution_count": 32,
   "metadata": {},
   "outputs": [
    {
     "data": {
      "text/plain": [
       "GridSearchCV(cv=5, estimator=Pipeline(steps=[('svr', SVR(kernel='linear'))]),\n",
       "             n_jobs=4, param_grid={'svr__C': [0.01, 0.1, 1, 10, 100]})"
      ]
     },
     "execution_count": 32,
     "metadata": {},
     "output_type": "execute_result"
    }
   ],
   "source": [
    "# Pipeline and gridsearch\n",
    "pipe_svr = Pipeline([\n",
    "    ('svr', SVR(kernel = 'linear'))\n",
    "])\n",
    "\n",
    "\n",
    "pipe_svr_params = {\n",
    "    'svr__C': [.01, .1, 1, 10, 100]\n",
    "}\n",
    "\n",
    "\n",
    "pipe_svr.fit(Z_train_rf, y_train_rf)\n",
    "gs_svr = GridSearchCV(pipe_svr,\n",
    "                      param_grid = pipe_svr_params,\n",
    "                      cv = 5,\n",
    "                      n_jobs = 4\n",
    ")\n",
    "\n",
    "gs_svr.fit(Z_train_rf, y_train_rf)"
>>>>>>> upstream/main
   ]
  },
  {
   "cell_type": "code",
<<<<<<< HEAD
   "execution_count": 89,
   "metadata": {},
   "outputs": [],
   "source": [
    "svr_preds_train = gs_svr.predict(Z_train)\n",
    "svr_preds_test = gs_svr.predict(Z_test)"
=======
   "execution_count": 33,
   "metadata": {},
   "outputs": [
    {
     "name": "stdout",
     "output_type": "stream",
     "text": [
      "Best score: 0.9339332025592908\n",
      "Best parameters: {'svr__C': 100}\n"
     ]
    }
   ],
   "source": [
    "print(f'Best score: {gs_svr.best_score_}')\n",
    "print(f'Best parameters: {gs_svr.best_params_}')"
>>>>>>> upstream/main
   ]
  },
  {
   "cell_type": "code",
<<<<<<< HEAD
   "execution_count": 90,
=======
   "execution_count": 34,
>>>>>>> upstream/main
   "metadata": {},
   "outputs": [
    {
     "name": "stdout",
     "output_type": "stream",
     "text": [
<<<<<<< HEAD
      "SVR Training RMSE: 0.9366578780068757\n",
      "SVR Testing RMSE: 1.0006495337045944\n",
      "Training R2: 0.9369931011152008\n",
      "Testing R2: 0.9324754437734858\n"
=======
      "SVR Training RMSE: 0.9364978536546309\n",
      "SVR Testing RMSE: 0.9176818517578482\n",
      "Training R2: 0.9388842943394556\n",
      "Testing R2: 0.9369623422307928\n"
>>>>>>> upstream/main
     ]
    }
   ],
   "source": [
<<<<<<< HEAD
    "print(f'SVR Training RMSE: {mean_squared_error(y_train, svr_preds_train, squared = False)}')\n",
    "print(f'SVR Testing RMSE: {mean_squared_error(y_test, svr_preds_test, squared = False)}')\n",
    "print(f'Training R2: {pipe_svr.score(Z_train, y_train)}')\n",
    "print(f'Testing R2: {pipe_svr.score(Z_test, y_test)}')"
=======
    "# Reinstantiate pipe_svr with gridsearched parameters\n",
    "pipe_svr = Pipeline([\n",
    "    ('svr', SVR(kernel = 'linear', C = 100))\n",
    "])\n",
    "pipe_svr = pipe_svr.fit(Z_train_mean, y_train_mean)\n",
    "\n",
    "svr_preds_train = gs_svr.predict(Z_train_rf)\n",
    "svr_preds_test = gs_svr.predict(Z_test_rf)\n",
    "\n",
    "print(f'SVR Training RMSE: {mean_squared_error(y_train, svr_preds_train, squared = False)}')\n",
    "print(f'SVR Testing RMSE: {mean_squared_error(y_test, svr_preds_test, squared = False)}')\n",
    "print(f'Training R2: {pipe_svr.score(Z_train_rf, y_train_rf)}')\n",
    "print(f'Testing R2: {pipe_svr.score(Z_test_rf, y_test_rf)}')"
>>>>>>> upstream/main
   ]
  },
  {
   "cell_type": "code",
<<<<<<< HEAD
   "execution_count": 93,
=======
   "execution_count": 35,
>>>>>>> upstream/main
   "metadata": {},
   "outputs": [
    {
     "data": {
      "text/html": [
       "<div>\n",
       "<style scoped>\n",
       "    .dataframe tbody tr th:only-of-type {\n",
       "        vertical-align: middle;\n",
       "    }\n",
       "\n",
       "    .dataframe tbody tr th {\n",
       "        vertical-align: top;\n",
       "    }\n",
       "\n",
       "    .dataframe thead th {\n",
       "        text-align: right;\n",
       "    }\n",
       "</style>\n",
       "<table border=\"1\" class=\"dataframe\">\n",
       "  <thead>\n",
       "    <tr style=\"text-align: right;\">\n",
       "      <th></th>\n",
       "      <th>features</th>\n",
       "      <th>coefficients</th>\n",
       "    </tr>\n",
       "  </thead>\n",
       "  <tbody>\n",
       "    <tr>\n",
<<<<<<< HEAD
       "      <th>0</th>\n",
       "      <td>lat</td>\n",
       "      <td>[-0.09500268194691941, 0.0772224931192671, -0.014253348458105108, 0.03745356823913326, 0.052440934151810836, 0.5180078169045643, 0.1416306703463981, 0.14468979679552696, -0.012546599994928798, 0.06713975914042791, -3.7580612295956115, 0.048092961344494256, 0.04177971424301852, 0.15416030270655412, 0.039294403618672646, -0.05091340760771246, 0.5870801435946982, 0.03757776877539598, 0.2117905914182785, -0.14392124768969694, 0.3319907475937356, -0.5844828096041823, -0.10439769066995197, 0.050044025360961086, -2.453014102692862, -0.05827058903630267, -0.14594184279148337, 0.08039420776725947, 0.25772401259429145, -0.8685884039454379, -0.3372026223509952, -0.031491387111373115, 0.0389980182714007, 0.0256545867496607, 0.21795956150827145, -0.037170137324244124, -0.0437330207670108, 0.0860010465387262, 0.029882224778358335, 0.13898011902101004, 0.13922389576088, -0.20061017897080546, -0.08966947551140692, 0.14212780832455962, 0.7487627440467719, 0.31101864715489924, 0.1368048635809611, -0.0559836936898499, -0.20513823247270935, 0.16847325423994874, -0.2119712351902443, 0.05897082147129851, -0.048334020328343996]</td>\n",
=======
       "      <th>44</th>\n",
       "      <td>percent_disabled</td>\n",
       "      <td>0.825926</td>\n",
       "    </tr>\n",
       "    <tr>\n",
       "      <th>16</th>\n",
       "      <td>percent_children_in_poverty</td>\n",
       "      <td>0.598516</td>\n",
       "    </tr>\n",
       "    <tr>\n",
       "      <th>5</th>\n",
       "      <td>percent_fair_or_poor_health</td>\n",
       "      <td>0.382689</td>\n",
       "    </tr>\n",
       "    <tr>\n",
       "      <th>45</th>\n",
       "      <td>percent_minorities</td>\n",
       "      <td>0.336838</td>\n",
       "    </tr>\n",
       "    <tr>\n",
       "      <th>34</th>\n",
       "      <td>percent_non_hispanic_white</td>\n",
       "      <td>0.335740</td>\n",
       "    </tr>\n",
       "    <tr>\n",
       "      <th>28</th>\n",
       "      <td>percent_severe_housing_cost_burden</td>\n",
       "      <td>0.286107</td>\n",
       "    </tr>\n",
       "    <tr>\n",
       "      <th>20</th>\n",
       "      <td>percent_severe_housing_problems</td>\n",
       "      <td>0.250383</td>\n",
       "    </tr>\n",
       "    <tr>\n",
       "      <th>18</th>\n",
       "      <td>percent_single_parent_households_CHR</td>\n",
       "      <td>0.220935</td>\n",
       "    </tr>\n",
       "    <tr>\n",
       "      <th>39</th>\n",
       "      <td>percent_below_poverty</td>\n",
       "      <td>0.186639</td>\n",
       "    </tr>\n",
       "    <tr>\n",
       "      <th>46</th>\n",
       "      <td>percent_limited_english_abilities</td>\n",
       "      <td>0.180408</td>\n",
>>>>>>> upstream/main
       "    </tr>\n",
       "  </tbody>\n",
       "</table>\n",
       "</div>"
      ],
      "text/plain": [
<<<<<<< HEAD
       "  features  \\\n",
       "0      lat   \n",
       "\n",
       "                                                                                                                                                                                                                                                                                                                                                                                                                                                                                                                                                                                                                                                                                                                                                                                                                                                                                                                                                                                                                                                                                                                                                         coefficients  \n",
       "0  [-0.09500268194691941, 0.0772224931192671, -0.014253348458105108, 0.03745356823913326, 0.052440934151810836, 0.5180078169045643, 0.1416306703463981, 0.14468979679552696, -0.012546599994928798, 0.06713975914042791, -3.7580612295956115, 0.048092961344494256, 0.04177971424301852, 0.15416030270655412, 0.039294403618672646, -0.05091340760771246, 0.5870801435946982, 0.03757776877539598, 0.2117905914182785, -0.14392124768969694, 0.3319907475937356, -0.5844828096041823, -0.10439769066995197, 0.050044025360961086, -2.453014102692862, -0.05827058903630267, -0.14594184279148337, 0.08039420776725947, 0.25772401259429145, -0.8685884039454379, -0.3372026223509952, -0.031491387111373115, 0.0389980182714007, 0.0256545867496607, 0.21795956150827145, -0.037170137324244124, -0.0437330207670108, 0.0860010465387262, 0.029882224778358335, 0.13898011902101004, 0.13922389576088, -0.20061017897080546, -0.08966947551140692, 0.14212780832455962, 0.7487627440467719, 0.31101864715489924, 0.1368048635809611, -0.0559836936898499, -0.20513823247270935, 0.16847325423994874, -0.2119712351902443, 0.05897082147129851, -0.048334020328343996]  "
      ]
     },
     "execution_count": 93,
=======
       "                                features  coefficients\n",
       "44                      percent_disabled      0.825926\n",
       "16           percent_children_in_poverty      0.598516\n",
       "5            percent_fair_or_poor_health      0.382689\n",
       "45                    percent_minorities      0.336838\n",
       "34            percent_non_hispanic_white      0.335740\n",
       "28    percent_severe_housing_cost_burden      0.286107\n",
       "20       percent_severe_housing_problems      0.250383\n",
       "18  percent_single_parent_households_CHR      0.220935\n",
       "39                 percent_below_poverty      0.186639\n",
       "46     percent_limited_english_abilities      0.180408"
      ]
     },
     "execution_count": 35,
>>>>>>> upstream/main
     "metadata": {},
     "output_type": "execute_result"
    }
   ],
   "source": [
<<<<<<< HEAD
    "# attribute error associated with coefficents. Can't get coefficents, but since we are seeking accuracy over interpretability then that is OK.\n",
    "\n",
    "feature_names = features\n",
    "coefs_svr = pipe_svr.named_steps['svr'].coef_\n",
    "model_zip = zip(feature_names, coefs_svr)\n",
    "model_zip_df = pd.DataFrame(model_zip, columns = ['features', 'coefficients'])\n",
    "model_zip_df.sort_values(by = 'coefficients', ascending = False)"
=======
    "# Show ten strongest features for best testing model - attribute error associated with coefficents. Cannot get coefficents, but since we are seeking accuracy over interpretability then that is OK.\n",
    "coefs_svr = pipe_svr.named_steps['svr'].coef_.flatten()\n",
    "model_zip = zip(feature_names_dummified, coefs_svr)\n",
    "model_zip_df = pd.DataFrame(model_zip, columns = ['features', 'coefficients'])\n",
    "model_zip_df.sort_values(by = 'coefficients', ascending = False).head(10)"
>>>>>>> upstream/main
   ]
  },
  {
   "cell_type": "markdown",
   "metadata": {},
   "source": [
    "**Quick Analysis**"
   ]
  },
  {
<<<<<<< HEAD
   "cell_type": "code",
   "execution_count": null,
   "metadata": {},
   "outputs": [],
   "source": []
  },
  {
   "cell_type": "code",
   "execution_count": null,
   "metadata": {},
   "outputs": [],
   "source": []
  },
  {
   "cell_type": "markdown",
   "metadata": {},
   "source": [
    "<a id='seventh'></a>\n",
    "### Model 7: TensorFlow NN"
   ]
  },
  {
   "cell_type": "code",
   "execution_count": 16,
   "metadata": {},
   "outputs": [],
   "source": [
    "features = df.drop(columns = ['ch_fi_rate_18', 'fi_rate_18', 'cpm_18', \n",
    "                       'state_abr', 'state_name', 'fips', 'county'])\n",
    "\n",
    "X = features\n",
    "y = df['fi_rate_18']\n",
    "\n",
    "X_train, X_test, y_train, y_test = train_test_split(X,\n",
    "                                                    y,\n",
    "                                                    random_state=42)\n",
    "\n",
    "# Scaling Data\n",
    "ss = StandardScaler()\n",
    "Z_train = ss.fit_transform(X_train)\n",
    "Z_test = ss.transform(X_test)\n",
    "\n",
    "rmse = RootMeanSquaredError()"
=======
   "cell_type": "markdown",
   "metadata": {},
   "source": [
    "RMSE does beat linear regression by about .015 on RMSE and is well fit, but given the computational requirements associated with this model it was not chosen as the production model. It's 'black box'  operations are not easily explained to customers/etc. so we dropped it in favor of our production model. "
   ]
  },
  {
   "cell_type": "markdown",
   "metadata": {},
   "source": [
    "<a id='seventh'></a>\n",
    "### Model 7: TensorFlow NN"
>>>>>>> upstream/main
   ]
  },
  {
   "cell_type": "code",
<<<<<<< HEAD
   "execution_count": 25,
   "metadata": {},
   "outputs": [
    {
     "name": "stdout",
     "output_type": "stream",
     "text": [
      "Epoch 1/50\n",
      "74/74 - 1s - loss: 54.2499 - root_mean_squared_error: 6.2987 - mse: 52.4582 - val_loss: 48.7192 - val_root_mean_squared_error: 6.8472 - val_mse: 46.8836\n",
      "Epoch 2/50\n",
      "74/74 - 0s - loss: 8.8213 - root_mean_squared_error: 2.6467 - mse: 7.0051 - val_loss: 21.4117 - val_root_mean_squared_error: 4.4291 - val_mse: 19.6171\n",
      "Epoch 3/50\n",
      "74/74 - 0s - loss: 7.6071 - root_mean_squared_error: 2.4150 - mse: 5.8321 - val_loss: 8.8536 - val_root_mean_squared_error: 2.6643 - val_mse: 7.0983\n",
      "Epoch 4/50\n",
      "74/74 - 0s - loss: 7.5334 - root_mean_squared_error: 2.4089 - mse: 5.8028 - val_loss: 7.0580 - val_root_mean_squared_error: 2.3137 - val_mse: 5.3533\n",
      "Epoch 5/50\n",
      "74/74 - 0s - loss: 7.0444 - root_mean_squared_error: 2.3142 - mse: 5.3557 - val_loss: 4.5727 - val_root_mean_squared_error: 1.7037 - val_mse: 2.9026\n",
      "Epoch 6/50\n",
      "74/74 - 0s - loss: 6.5731 - root_mean_squared_error: 2.2193 - mse: 4.9255 - val_loss: 5.3272 - val_root_mean_squared_error: 1.9252 - val_mse: 3.7065\n",
      "Epoch 7/50\n",
      "74/74 - 0s - loss: 6.2480 - root_mean_squared_error: 2.1542 - mse: 4.6404 - val_loss: 4.6692 - val_root_mean_squared_error: 1.7577 - val_mse: 3.0896\n",
      "Epoch 8/50\n",
      "74/74 - 0s - loss: 5.5602 - root_mean_squared_error: 1.9983 - mse: 3.9933 - val_loss: 3.9626 - val_root_mean_squared_error: 1.5540 - val_mse: 2.4150\n",
      "Epoch 9/50\n",
      "74/74 - 0s - loss: 5.5041 - root_mean_squared_error: 1.9939 - mse: 3.9754 - val_loss: 4.1783 - val_root_mean_squared_error: 1.6351 - val_mse: 2.6736\n",
      "Epoch 10/50\n",
      "74/74 - 0s - loss: 5.2826 - root_mean_squared_error: 1.9471 - mse: 3.7913 - val_loss: 3.8380 - val_root_mean_squared_error: 1.5374 - val_mse: 2.3636\n",
      "Epoch 11/50\n",
      "74/74 - 0s - loss: 5.3257 - root_mean_squared_error: 1.9680 - mse: 3.8729 - val_loss: 3.4278 - val_root_mean_squared_error: 1.4115 - val_mse: 1.9925\n",
      "Epoch 12/50\n",
      "74/74 - 0s - loss: 5.1149 - root_mean_squared_error: 1.9228 - mse: 3.6970 - val_loss: 3.5076 - val_root_mean_squared_error: 1.4509 - val_mse: 2.1051\n",
      "Epoch 13/50\n",
      "74/74 - 0s - loss: 4.8746 - root_mean_squared_error: 1.8679 - mse: 3.4891 - val_loss: 3.8456 - val_root_mean_squared_error: 1.5759 - val_mse: 2.4834\n",
      "Epoch 14/50\n",
      "74/74 - 0s - loss: 4.7598 - root_mean_squared_error: 1.8463 - mse: 3.4087 - val_loss: 3.7599 - val_root_mean_squared_error: 1.5578 - val_mse: 2.4267\n",
      "Epoch 15/50\n",
      "74/74 - 0s - loss: 4.9501 - root_mean_squared_error: 1.9057 - mse: 3.6318 - val_loss: 3.2769 - val_root_mean_squared_error: 1.4051 - val_mse: 1.9744\n",
      "Epoch 16/50\n",
      "74/74 - 0s - loss: 4.4153 - root_mean_squared_error: 1.7685 - mse: 3.1277 - val_loss: 3.2707 - val_root_mean_squared_error: 1.4145 - val_mse: 2.0007\n",
      "Epoch 17/50\n",
      "74/74 - 0s - loss: 4.5979 - root_mean_squared_error: 1.8283 - mse: 3.3428 - val_loss: 3.2630 - val_root_mean_squared_error: 1.4213 - val_mse: 2.0202\n",
      "Epoch 18/50\n",
      "74/74 - 0s - loss: 4.2550 - root_mean_squared_error: 1.7399 - mse: 3.0273 - val_loss: 3.2369 - val_root_mean_squared_error: 1.4237 - val_mse: 2.0270\n",
      "Epoch 19/50\n",
      "74/74 - 0s - loss: 4.2460 - root_mean_squared_error: 1.7456 - mse: 3.0473 - val_loss: 3.1025 - val_root_mean_squared_error: 1.3846 - val_mse: 1.9170\n",
      "Epoch 20/50\n",
      "74/74 - 0s - loss: 4.4583 - root_mean_squared_error: 1.8132 - mse: 3.2878 - val_loss: 3.8216 - val_root_mean_squared_error: 1.6346 - val_mse: 2.6720\n",
      "Epoch 21/50\n",
      "74/74 - 0s - loss: 4.0873 - root_mean_squared_error: 1.7158 - mse: 2.9441 - val_loss: 2.8912 - val_root_mean_squared_error: 1.3261 - val_mse: 1.7585\n",
      "Epoch 22/50\n",
      "74/74 - 0s - loss: 3.9624 - root_mean_squared_error: 1.6867 - mse: 2.8450 - val_loss: 3.3623 - val_root_mean_squared_error: 1.5044 - val_mse: 2.2633\n",
      "Epoch 23/50\n",
      "74/74 - 0s - loss: 3.8703 - root_mean_squared_error: 1.6672 - mse: 2.7795 - val_loss: 2.9366 - val_root_mean_squared_error: 1.3629 - val_mse: 1.8575\n",
      "Epoch 24/50\n",
      "74/74 - 0s - loss: 3.9488 - root_mean_squared_error: 1.6980 - mse: 2.8831 - val_loss: 2.9328 - val_root_mean_squared_error: 1.3728 - val_mse: 1.8846\n",
      "Epoch 25/50\n",
      "74/74 - 0s - loss: 3.7807 - root_mean_squared_error: 1.6551 - mse: 2.7394 - val_loss: 2.7185 - val_root_mean_squared_error: 1.2993 - val_mse: 1.6882\n",
      "Epoch 26/50\n",
      "74/74 - 0s - loss: 3.8960 - root_mean_squared_error: 1.6960 - mse: 2.8764 - val_loss: 3.4060 - val_root_mean_squared_error: 1.5516 - val_mse: 2.4074\n",
      "Epoch 27/50\n",
      "74/74 - 0s - loss: 3.7701 - root_mean_squared_error: 1.6661 - mse: 2.7759 - val_loss: 2.6357 - val_root_mean_squared_error: 1.2849 - val_mse: 1.6511\n",
      "Epoch 28/50\n",
      "74/74 - 0s - loss: 3.5448 - root_mean_squared_error: 1.6033 - mse: 2.5706 - val_loss: 2.8378 - val_root_mean_squared_error: 1.3704 - val_mse: 1.8780\n",
      "Epoch 29/50\n",
      "74/74 - 0s - loss: 3.4956 - root_mean_squared_error: 1.5951 - mse: 2.5443 - val_loss: 2.6511 - val_root_mean_squared_error: 1.3071 - val_mse: 1.7086\n",
      "Epoch 30/50\n",
      "74/74 - 0s - loss: 3.6219 - root_mean_squared_error: 1.6404 - mse: 2.6910 - val_loss: 2.6850 - val_root_mean_squared_error: 1.3285 - val_mse: 1.7648\n",
      "Epoch 31/50\n",
      "74/74 - 0s - loss: 3.7078 - root_mean_squared_error: 1.6725 - mse: 2.7971 - val_loss: 2.6539 - val_root_mean_squared_error: 1.3224 - val_mse: 1.7488\n",
      "Epoch 32/50\n",
      "74/74 - 0s - loss: 3.8842 - root_mean_squared_error: 1.7299 - mse: 2.9924 - val_loss: 2.5291 - val_root_mean_squared_error: 1.2836 - val_mse: 1.6477\n",
      "Epoch 33/50\n",
      "74/74 - 0s - loss: 3.5903 - root_mean_squared_error: 1.6486 - mse: 2.7180 - val_loss: 2.6856 - val_root_mean_squared_error: 1.3513 - val_mse: 1.8260\n",
      "Epoch 34/50\n",
      "74/74 - 0s - loss: 3.5074 - root_mean_squared_error: 1.6285 - mse: 2.6520 - val_loss: 2.8684 - val_root_mean_squared_error: 1.4189 - val_mse: 2.0134\n",
      "Epoch 35/50\n",
      "74/74 - 0s - loss: 3.5170 - root_mean_squared_error: 1.6371 - mse: 2.6801 - val_loss: 2.4584 - val_root_mean_squared_error: 1.2753 - val_mse: 1.6263\n",
      "Epoch 36/50\n",
      "74/74 - 0s - loss: 3.4156 - root_mean_squared_error: 1.6107 - mse: 2.5943 - val_loss: 2.4174 - val_root_mean_squared_error: 1.2678 - val_mse: 1.6073\n",
      "Epoch 37/50\n",
      "74/74 - 0s - loss: 3.1703 - root_mean_squared_error: 1.5383 - mse: 2.3665 - val_loss: 2.4203 - val_root_mean_squared_error: 1.2737 - val_mse: 1.6222\n",
      "Epoch 38/50\n",
      "74/74 - 0s - loss: 3.1527 - root_mean_squared_error: 1.5379 - mse: 2.3652 - val_loss: 2.2685 - val_root_mean_squared_error: 1.2205 - val_mse: 1.4896\n",
      "Epoch 39/50\n",
      "74/74 - 0s - loss: 3.1306 - root_mean_squared_error: 1.5358 - mse: 2.3588 - val_loss: 2.4763 - val_root_mean_squared_error: 1.3072 - val_mse: 1.7088\n",
      "Epoch 40/50\n",
      "74/74 - 0s - loss: 3.1650 - root_mean_squared_error: 1.5522 - mse: 2.4092 - val_loss: 2.4252 - val_root_mean_squared_error: 1.2959 - val_mse: 1.6794\n",
      "Epoch 41/50\n",
      "74/74 - 0s - loss: 3.2427 - root_mean_squared_error: 1.5820 - mse: 2.5027 - val_loss: 2.3314 - val_root_mean_squared_error: 1.2621 - val_mse: 1.5929\n",
      "Epoch 42/50\n",
      "74/74 - 0s - loss: 3.3986 - root_mean_squared_error: 1.6346 - mse: 2.6720 - val_loss: 2.3453 - val_root_mean_squared_error: 1.2738 - val_mse: 1.6227\n",
      "Epoch 43/50\n",
      "74/74 - 0s - loss: 3.1362 - root_mean_squared_error: 1.5564 - mse: 2.4225 - val_loss: 4.4191 - val_root_mean_squared_error: 1.9297 - val_mse: 3.7236\n"
     ]
    }
   ],
   "source": [
    "model = Sequential()\n",
    "\n",
    "model.add(Dense(64, input_shape = (Z_train.shape[1], ),\n",
    "                  activation = 'relu',\n",
    "                  ))\n",
    "\n",
    "model.add(BatchNormalization())   # BatchNormalization layer added from Part 7\n",
    "\n",
    "model.add(Dense(128, activation = 'relu', \n",
    "                  kernel_regularizer = l2(0.01)\n",
    "                  )) # Second hidden layer\n",
    "model.add(Dropout(0.05))  # Dropout layer 5 % to 2nd layer\n",
    "\n",
    "model.add(Dense(64, activation = 'relu', \n",
    "                  kernel_regularizer = l2(0.01)\n",
    "                  )) # Third hidden layer\n",
    "model.add(Dropout(0.20))  # Dropout layer 20 % to 3rd layer\n",
=======
   "execution_count": 36,
   "metadata": {},
   "outputs": [
    {
     "data": {
      "text/plain": [
       "<matplotlib.legend.Legend at 0x285d2a5c5b0>"
      ]
     },
     "execution_count": 36,
     "metadata": {},
     "output_type": "execute_result"
    },
    {
     "data": {
      "image/png": "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\n",
      "text/plain": [
       "<Figure size 864x576 with 1 Axes>"
      ]
     },
     "metadata": {
      "needs_background": "light"
     },
     "output_type": "display_data"
    }
   ],
   "source": [
    "rmse = RootMeanSquaredError()\n",
    "\n",
    "# Set up nn\n",
    "model = Sequential()\n",
    "\n",
    "model.add(Dense(64, input_shape = (Z_train_rf.shape[1],),\n",
    "                activation = 'relu',\n",
    "               ))\n",
    "\n",
    "model.add(BatchNormalization()) # BatchNormalization layer added from Part 7\n",
    "\n",
    "model.add(Dense(128, activation = 'relu',\n",
    "                kernel_regularizer = l2(0.01)\n",
    "               )) # Second hidden layer\n",
    "\n",
    "model.add(Dropout(0.05)) # Dropout layer 5 % to 2nd layer\n",
    "\n",
    "model.add(Dense(64, activation = 'relu', \n",
    "                kernel_regularizer = l2(0.1)\n",
    "               )) # Third hidden layer\n",
    "\n",
    "model.add(Dropout(0.20)) # Dropout layer 20 % to 3rd layer\n",
>>>>>>> upstream/main
    "\n",
    "# Add output layer\n",
    "\n",
    "model.add(Dense(1, activation = None)) \n",
    "\n",
<<<<<<< HEAD
    "# Compile it\n",
    "model.compile(loss = 'mse' ,optimizer = 'adam', metrics= [rmse,'mse'])                                     \n",
    "# early_stop object\n",
    "\n",
    "\n",
    "early_stop = EarlyStopping(patience=5)\n",
    "\n",
    "# Fit it\n",
    "results_es = model.fit(Z_train, y_train,\n",
    "            validation_data= (Z_test, y_test),\n",
    "            epochs = 50, \n",
    "            verbose = 2,\n",
    "            callbacks = [early_stop])"
=======
    "# Compile\n",
    "model.compile(loss = 'mse', optimizer = 'adam', metrics= [rmse,'mse'])                                     \n",
    "\n",
    "# Early_stop object\n",
    "early_stop = EarlyStopping(patience = 5)\n",
    "\n",
    "# Fit\n",
    "results_es = model.fit(Z_train_rf, y_train_rf,\n",
    "            validation_data = (Z_test_rf, y_test_rf),\n",
    "            epochs = 50, \n",
    "            verbose = 0,\n",
    "            callbacks = [early_stop])\n",
    "\n",
    "# Visualize loss\n",
    "train_loss = results_es.history['loss']\n",
    "test_loss = results_es.history['val_loss']\n",
    "train_rmse = results_es.history['root_mean_squared_error']\n",
    "\n",
    "plt.figure(figsize = (12, 8))\n",
    "plt.plot(train_loss, label = 'TF_Model Training loss', color = 'darkgreen')\n",
    "plt.plot(test_loss, label = 'TF_Model Testing loss', color = 'lightgreen')\n",
    "plt.plot(train_rmse, label = 'TF_Model RMSE', color = 'Black')\n",
    "\n",
    "plt.legend()"
>>>>>>> upstream/main
   ]
  },
  {
   "cell_type": "code",
<<<<<<< HEAD
   "execution_count": 27,
=======
   "execution_count": 37,
   "metadata": {},
   "outputs": [
    {
     "name": "stdout",
     "output_type": "stream",
     "text": [
      "Model: \"sequential\"\n",
      "_________________________________________________________________\n",
      "Layer (type)                 Output Shape              Param #   \n",
      "=================================================================\n",
      "dense (Dense)                (None, 64)                3456      \n",
      "_________________________________________________________________\n",
      "batch_normalization (BatchNo (None, 64)                256       \n",
      "_________________________________________________________________\n",
      "dense_1 (Dense)              (None, 128)               8320      \n",
      "_________________________________________________________________\n",
      "dropout (Dropout)            (None, 128)               0         \n",
      "_________________________________________________________________\n",
      "dense_2 (Dense)              (None, 64)                8256      \n",
      "_________________________________________________________________\n",
      "dropout_1 (Dropout)          (None, 64)                0         \n",
      "_________________________________________________________________\n",
      "dense_3 (Dense)              (None, 1)                 65        \n",
      "=================================================================\n",
      "Total params: 20,353\n",
      "Trainable params: 20,225\n",
      "Non-trainable params: 128\n",
      "_________________________________________________________________\n"
     ]
    }
   ],
   "source": [
    "model.summary()"
   ]
  },
  {
   "cell_type": "code",
   "execution_count": 38,
>>>>>>> upstream/main
   "metadata": {},
   "outputs": [
    {
     "data": {
<<<<<<< HEAD
      "image/png": "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\n",
      "text/plain": [
       "<Figure size 864x576 with 1 Axes>"
      ]
     },
     "metadata": {
      "needs_background": "light"
     },
     "output_type": "display_data"
    }
   ],
   "source": [
    "# Visualize loss\n",
    "train_loss = results_es.history['loss']\n",
    "test_loss = results_es.history['val_loss']\n",
    "train_rmse = results_es.history['root_mean_squared_error']\n",
    "\n",
    "plt.figure(figsize=(12, 8))\n",
    "plt.plot(train_loss, label='TF_Model Training loss', color='darkgreen')\n",
    "plt.plot(test_loss, label='TF_Model Testing loss', color='lightgreen')\n",
    "plt.plot(train_rmse, label='TF_Model RMSE', color='Black')\n",
    "\n",
    "plt.legend();"
=======
      "image/png": "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\n",
      "text/plain": [
       "<IPython.core.display.Image object>"
      ]
     },
     "execution_count": 38,
     "metadata": {},
     "output_type": "execute_result"
    }
   ],
   "source": [
    "plot_model(model, show_layer_names = True, show_shapes = True)"
   ]
  },
  {
   "cell_type": "code",
   "execution_count": 39,
   "metadata": {},
   "outputs": [
    {
     "data": {
      "text/plain": [
       "dict_keys(['loss', 'root_mean_squared_error', 'mse', 'val_loss', 'val_root_mean_squared_error', 'val_mse'])"
      ]
     },
     "execution_count": 39,
     "metadata": {},
     "output_type": "execute_result"
    }
   ],
   "source": [
    "results_es.history.keys()"
>>>>>>> upstream/main
   ]
  },
  {
   "cell_type": "code",
<<<<<<< HEAD
   "execution_count": null,
   "metadata": {},
   "outputs": [],
   "source": []
=======
   "execution_count": 40,
   "metadata": {},
   "outputs": [
    {
     "data": {
      "text/plain": [
       "1.6343107223510742"
      ]
     },
     "execution_count": 40,
     "metadata": {},
     "output_type": "execute_result"
    }
   ],
   "source": [
    "# TF Training RMSE\n",
    "results_es.history['root_mean_squared_error'][-1]"
   ]
  },
  {
   "cell_type": "code",
   "execution_count": 41,
   "metadata": {},
   "outputs": [
    {
     "data": {
      "text/plain": [
       "1.238940715789795"
      ]
     },
     "execution_count": 41,
     "metadata": {},
     "output_type": "execute_result"
    }
   ],
   "source": [
    "# TF Testing RMSE\n",
    "results_es.history['val_root_mean_squared_error'][-1]"
   ]
  },
  {
   "cell_type": "markdown",
   "metadata": {},
   "source": [
    "**Quick Analysis**"
   ]
  },
  {
   "cell_type": "markdown",
   "metadata": {},
   "source": [
    "RMSE does not beat linear regression for any combination of hyperparameters. This model is overfit, but it is not close enough to production model to attempt further analysis. Is utilizing a Neuro Network for a regression problem overkill?!  Of course not!  Unfortunately though, the model did not perform as well as out production model. Sometimes, simplier IS better."
   ]
  },
  {
   "cell_type": "markdown",
   "metadata": {},
   "source": [
    "<a id='eigth'></a>\n",
    "### Model 8: Random Forest Regressor"
   ]
  },
  {
   "cell_type": "code",
   "execution_count": 42,
   "metadata": {},
   "outputs": [
    {
     "data": {
      "text/plain": [
       "GridSearchCV(cv=5, estimator=Pipeline(steps=[('rf', RandomForestRegressor())]),\n",
       "             param_grid={'rf__max_depth': [5, 10, None]})"
      ]
     },
     "execution_count": 42,
     "metadata": {},
     "output_type": "execute_result"
    }
   ],
   "source": [
    "# Pipeline and gridsearch\n",
    "RandomForestRegressor().get_params().keys()\n",
    "pipe_rf = Pipeline([\n",
    "    ('rf', RandomForestRegressor())\n",
    "])\n",
    "pipe_rf_params = {'rf__max_depth': [5, 10, None],\n",
    "                 }\n",
    "pipe_rf.fit(Z_train_rf, y_train_rf)\n",
    "gs_rf = GridSearchCV(pipe_rf,\n",
    "                     param_grid = pipe_rf_params,\n",
    "                     cv = 5)\n",
    "\n",
    "gs_rf.fit(Z_train_rf, y_train_rf)"
   ]
  },
  {
   "cell_type": "code",
   "execution_count": 43,
   "metadata": {},
   "outputs": [
    {
     "name": "stdout",
     "output_type": "stream",
     "text": [
      "Best score rf: 0.8961033322387486\n",
      "Best parameters rf: {'rf__max_depth': None}\n"
     ]
    }
   ],
   "source": [
    "print(f'Best score rf: {gs_rf.best_score_}')\n",
    "print(f'Best parameters rf: {gs_rf.best_params_}')"
   ]
  },
  {
   "cell_type": "code",
   "execution_count": 44,
   "metadata": {},
   "outputs": [
    {
     "name": "stdout",
     "output_type": "stream",
     "text": [
      "Rf Training RMSE: 0.4520996141852997\n",
      "Rf Testing RMSE: 1.249395872355865\n",
      "Rf Training R2: 0.9844740072014287\n",
      "Rf Testing R2: 0.883616383402859\n"
     ]
    }
   ],
   "source": [
    "# Reinstantiate pipe_svr with gridsearched parameters\n",
    "pipe_rf = Pipeline([\n",
    "    ('rf', RandomForestRegressor(max_depth = None))\n",
    "])\n",
    "pipe_rf = pipe_rf.fit(Z_train_mean, y_train_mean)\n",
    "\n",
    "rf_preds_train = gs_rf.predict(Z_train_rf)\n",
    "rf_preds_test = gs_rf.predict(Z_test_rf)\n",
    "\n",
    "print(f'Rf Training RMSE: {mean_squared_error(y_train_rf, rf_preds_train, squared = False)}')\n",
    "print(f'Rf Testing RMSE: {mean_squared_error(y_test_rf, rf_preds_test, squared = False)}')\n",
    "print(f'Rf Training R2: {pipe_rf.score(Z_train_rf, y_train_rf)}')\n",
    "print(f'Rf Testing R2: {pipe_rf.score(Z_test_rf, y_test_rf)}')"
   ]
  },
  {
   "cell_type": "code",
   "execution_count": 45,
   "metadata": {},
   "outputs": [
    {
     "data": {
      "text/html": [
       "<div>\n",
       "<style scoped>\n",
       "    .dataframe tbody tr th:only-of-type {\n",
       "        vertical-align: middle;\n",
       "    }\n",
       "\n",
       "    .dataframe tbody tr th {\n",
       "        vertical-align: top;\n",
       "    }\n",
       "\n",
       "    .dataframe thead th {\n",
       "        text-align: right;\n",
       "    }\n",
       "</style>\n",
       "<table border=\"1\" class=\"dataframe\">\n",
       "  <thead>\n",
       "    <tr style=\"text-align: right;\">\n",
       "      <th></th>\n",
       "      <th>features</th>\n",
       "      <th>coefficients</th>\n",
       "    </tr>\n",
       "  </thead>\n",
       "  <tbody>\n",
       "    <tr>\n",
       "      <th>16</th>\n",
       "      <td>percent_children_in_poverty</td>\n",
       "      <td>0.489700</td>\n",
       "    </tr>\n",
       "    <tr>\n",
       "      <th>39</th>\n",
       "      <td>percent_below_poverty</td>\n",
       "      <td>0.126649</td>\n",
       "    </tr>\n",
       "    <tr>\n",
       "      <th>10</th>\n",
       "      <td>food_environment_index</td>\n",
       "      <td>0.078389</td>\n",
       "    </tr>\n",
       "    <tr>\n",
       "      <th>5</th>\n",
       "      <td>percent_fair_or_poor_health</td>\n",
       "      <td>0.051816</td>\n",
       "    </tr>\n",
       "    <tr>\n",
       "      <th>44</th>\n",
       "      <td>percent_disabled</td>\n",
       "      <td>0.038483</td>\n",
       "    </tr>\n",
       "    <tr>\n",
       "      <th>25</th>\n",
       "      <td>median_household_income</td>\n",
       "      <td>0.037391</td>\n",
       "    </tr>\n",
       "    <tr>\n",
       "      <th>48</th>\n",
       "      <td>pct_overall_pov_19</td>\n",
       "      <td>0.027897</td>\n",
       "    </tr>\n",
       "    <tr>\n",
       "      <th>22</th>\n",
       "      <td>life_expectancy</td>\n",
       "      <td>0.015378</td>\n",
       "    </tr>\n",
       "    <tr>\n",
       "      <th>6</th>\n",
       "      <td>average_number_of_mentally_unhealthy_days</td>\n",
       "      <td>0.015304</td>\n",
       "    </tr>\n",
       "    <tr>\n",
       "      <th>0</th>\n",
       "      <td>lat</td>\n",
       "      <td>0.010129</td>\n",
       "    </tr>\n",
       "  </tbody>\n",
       "</table>\n",
       "</div>"
      ],
      "text/plain": [
       "                                     features  coefficients\n",
       "16                percent_children_in_poverty      0.489700\n",
       "39                      percent_below_poverty      0.126649\n",
       "10                     food_environment_index      0.078389\n",
       "5                 percent_fair_or_poor_health      0.051816\n",
       "44                           percent_disabled      0.038483\n",
       "25                    median_household_income      0.037391\n",
       "48                         pct_overall_pov_19      0.027897\n",
       "22                            life_expectancy      0.015378\n",
       "6   average_number_of_mentally_unhealthy_days      0.015304\n",
       "0                                         lat      0.010129"
      ]
     },
     "execution_count": 45,
     "metadata": {},
     "output_type": "execute_result"
    }
   ],
   "source": [
    "# Show ten strongest features for best testing model\n",
    "coefs_rf = pipe_rf.named_steps['rf'].feature_importances_\n",
    "model_zip = zip(feature_names_dummified, coefs_rf)\n",
    "model_zip_df = pd.DataFrame(model_zip, columns = ['features', 'coefficients'])\n",
    "model_zip_df.sort_values(by = 'coefficients', ascending = False).head(10)"
   ]
  },
  {
   "cell_type": "markdown",
   "metadata": {},
   "source": [
    "**Quick Analysis**"
   ]
  },
  {
   "cell_type": "markdown",
   "metadata": {},
   "source": [
    "RMSE does not beat linear regression for any combination of hyperparameters. This model is very overfit, but it is not close enough to production model to attempt."
   ]
  },
  {
   "cell_type": "markdown",
   "metadata": {},
   "source": [
    "<a id='ninth'></a>\n",
    "### Model 9: PCA Pipeline w/ Lin Reg"
   ]
  },
  {
   "cell_type": "code",
   "execution_count": 46,
   "metadata": {},
   "outputs": [
    {
     "data": {
      "text/plain": [
       "dict_keys(['copy', 'iterated_power', 'n_components', 'random_state', 'svd_solver', 'tol', 'whiten'])"
      ]
     },
     "execution_count": 46,
     "metadata": {},
     "output_type": "execute_result"
    }
   ],
   "source": [
    "pca = PCA()\n",
    "pca.get_params().keys()"
   ]
  },
  {
   "cell_type": "code",
   "execution_count": 47,
   "metadata": {},
   "outputs": [
    {
     "data": {
      "text/plain": [
       "GridSearchCV(cv=5,\n",
       "             estimator=Pipeline(steps=[('pca', PCA()),\n",
       "                                       ('lr', LinearRegression())]),\n",
       "             param_grid={'lr__fit_intercept': [True, False],\n",
       "                         'lr__normalize': [True, False],\n",
       "                         'pca__iterated_power': [0, 1, 2, 3],\n",
       "                         'pca__n_components': [5, 7, 10, 12, 15, 20, 30, 50],\n",
       "                         'pca__random_state': [42, 2021],\n",
       "                         'pca__svd_solver': ['auto', 'full', 'arpack',\n",
       "                                             'randomized'],\n",
       "                         'pca__tol': [0, 0.1, 1],\n",
       "                         'pca__whiten': [True, False]})"
      ]
     },
     "execution_count": 47,
     "metadata": {},
     "output_type": "execute_result"
    }
   ],
   "source": [
    "# Pipeline and gridsearch\n",
    "pipe_pca_lr = Pipeline([\n",
    "    ('pca', PCA()),\n",
    "    ('lr', LinearRegression()),\n",
    "])\n",
    "pipe_pca_lr_params = {'lr__normalize':[True, False],\n",
    "                  'lr__fit_intercept':[True, False],\n",
    "                  'pca__n_components':[5, 7, 10, 12, 15, 20, 30, 50],\n",
    "                  'pca__random_state':[42, 2021],\n",
    "                  'pca__tol':[0, 0.1, 1],\n",
    "                  'pca__whiten':[True, False],\n",
    "                  'pca__svd_solver':['auto','full', 'arpack','randomized'],\n",
    "                  'pca__iterated_power': [0, 1, 2, 3]\n",
    "                  }\n",
    "\n",
    "pipe_pca_lr.fit(Z_train_rf, y_train_rf)\n",
    "gs_pca_lr = GridSearchCV(pipe_pca_lr,\n",
    "                     param_grid = pipe_pca_lr_params,\n",
    "                     cv = 5)\n",
    "\n",
    "gs_pca_lr.fit(Z_train_rf, y_train_rf)"
   ]
  },
  {
   "cell_type": "code",
   "execution_count": 48,
   "metadata": {},
   "outputs": [
    {
     "name": "stdout",
     "output_type": "stream",
     "text": [
      "Best score rf: 0.9351391144809849\n",
      "Best parameters rf: {'lr__fit_intercept': True, 'lr__normalize': True, 'pca__iterated_power': 2, 'pca__n_components': 50, 'pca__random_state': 42, 'pca__svd_solver': 'randomized', 'pca__tol': 0, 'pca__whiten': True}\n"
     ]
    }
   ],
   "source": [
    "print(f'Best score rf: {gs_pca_lr.best_score_}')\n",
    "print(f'Best parameters rf: {gs_pca_lr.best_params_}')"
   ]
  },
  {
   "cell_type": "code",
   "execution_count": 49,
   "metadata": {},
   "outputs": [
    {
     "name": "stdout",
     "output_type": "stream",
     "text": [
      "Lr with PCA Training RMSE: 0.9285481220245958\n",
      "Lr with Testing RMSE: 0.9380487497174733\n",
      "Lr with PCA Training R2: 0.9400302066313364\n",
      "Lr with with PCA Testing R2: 0.934666732500279\n"
     ]
    }
   ],
   "source": [
    "# Reinstantiate pipe_svr with gridsearched parameters\n",
    "pipe_pca_lr = Pipeline([\n",
    "    ('pca', PCA(iterated_power = 1, n_components = 50, random_state = 2021, svd_solver = 'randomized', tol = 0, whiten = True)),\n",
    "    ('lr', LinearRegression(fit_intercept = True, normalize = True)),\n",
    "])\n",
    "pipe_pca_lr.fit(Z_train_rf, y_train_rf)\n",
    "\n",
    "lr_pca_preds_train = gs_pca_lr.predict(Z_train_rf)\n",
    "lr_pca_preds_test = gs_pca_lr.predict(Z_test_rf)\n",
    "\n",
    "print(f'Lr with PCA Training RMSE: {mean_squared_error(y_train_rf, lr_pca_preds_train, squared = False)}')\n",
    "print(f'Lr with Testing RMSE: {mean_squared_error(y_test_rf, lr_pca_preds_test, squared = False)}')\n",
    "print(f'Lr with PCA Training R2: {pipe_pca_lr.score(Z_train_rf, y_train_rf)}')\n",
    "print(f'Lr with with PCA Testing R2: {pipe_pca_lr.score(Z_test_rf, y_test_rf)}')"
   ]
  },
  {
   "cell_type": "code",
   "execution_count": 50,
   "metadata": {},
   "outputs": [
    {
     "data": {
      "text/html": [
       "<div>\n",
       "<style scoped>\n",
       "    .dataframe tbody tr th:only-of-type {\n",
       "        vertical-align: middle;\n",
       "    }\n",
       "\n",
       "    .dataframe tbody tr th {\n",
       "        vertical-align: top;\n",
       "    }\n",
       "\n",
       "    .dataframe thead th {\n",
       "        text-align: right;\n",
       "    }\n",
       "</style>\n",
       "<table border=\"1\" class=\"dataframe\">\n",
       "  <thead>\n",
       "    <tr style=\"text-align: right;\">\n",
       "      <th></th>\n",
       "      <th>features</th>\n",
       "      <th>coefficients</th>\n",
       "    </tr>\n",
       "  </thead>\n",
       "  <tbody>\n",
       "    <tr>\n",
       "      <th>0</th>\n",
       "      <td>lat</td>\n",
       "      <td>3.354799</td>\n",
       "    </tr>\n",
       "    <tr>\n",
       "      <th>47</th>\n",
       "      <td>percentile_rank_social_vulnerability</td>\n",
       "      <td>0.616023</td>\n",
       "    </tr>\n",
       "    <tr>\n",
       "      <th>9</th>\n",
       "      <td>percent_adults_with_obesity</td>\n",
       "      <td>0.451246</td>\n",
       "    </tr>\n",
       "    <tr>\n",
       "      <th>4</th>\n",
       "      <td>population_density_per_sqmi</td>\n",
       "      <td>0.398362</td>\n",
       "    </tr>\n",
       "    <tr>\n",
       "      <th>43</th>\n",
       "      <td>percent_age_17_and_younger</td>\n",
       "      <td>0.388949</td>\n",
       "    </tr>\n",
       "    <tr>\n",
       "      <th>3</th>\n",
       "      <td>area_sqmi</td>\n",
       "      <td>0.388268</td>\n",
       "    </tr>\n",
       "    <tr>\n",
       "      <th>29</th>\n",
       "      <td>percent_black</td>\n",
       "      <td>0.281396</td>\n",
       "    </tr>\n",
       "    <tr>\n",
       "      <th>15</th>\n",
       "      <td>high_school_graduation_rate</td>\n",
       "      <td>0.254437</td>\n",
       "    </tr>\n",
       "    <tr>\n",
       "      <th>10</th>\n",
       "      <td>food_environment_index</td>\n",
       "      <td>0.240137</td>\n",
       "    </tr>\n",
       "    <tr>\n",
       "      <th>24</th>\n",
       "      <td>percent_limited_access_to_healthy_foods</td>\n",
       "      <td>0.233404</td>\n",
       "    </tr>\n",
       "  </tbody>\n",
       "</table>\n",
       "</div>"
      ],
      "text/plain": [
       "                                   features  coefficients\n",
       "0                                       lat      3.354799\n",
       "47     percentile_rank_social_vulnerability      0.616023\n",
       "9               percent_adults_with_obesity      0.451246\n",
       "4               population_density_per_sqmi      0.398362\n",
       "43               percent_age_17_and_younger      0.388949\n",
       "3                                 area_sqmi      0.388268\n",
       "29                            percent_black      0.281396\n",
       "15              high_school_graduation_rate      0.254437\n",
       "10                   food_environment_index      0.240137\n",
       "24  percent_limited_access_to_healthy_foods      0.233404"
      ]
     },
     "execution_count": 50,
     "metadata": {},
     "output_type": "execute_result"
    }
   ],
   "source": [
    "# Show ten strongest features for best testing model\n",
    "coefs_pca_lr = pipe_pca_lr.named_steps['lr'].coef_.flatten()\n",
    "model_zip = zip(feature_names_dummified, coefs_pca_lr)\n",
    "model_zip_df = pd.DataFrame(model_zip, columns = ['features', 'coefficients'])\n",
    "model_zip_df.sort_values(by = 'coefficients', ascending = False).head(10)"
   ]
  },
  {
   "cell_type": "markdown",
   "metadata": {},
   "source": [
    "**Quick Analysis**"
   ]
  },
  {
   "cell_type": "markdown",
   "metadata": {},
   "source": [
    "RMSE is very close to the linear regression for the best hyperparameters and is well-fit, but is not worth the computational resources to use or further refine.\n",
    "Pulling in PCA was a must for our team.  Having just begun to learn the advantages of the algo we wanted to see it in action. And... it actually performed a little better than our production model.. Just barely.  And, since the model is costly (computing) to run, and lacks appropriate interpretability.  We decided to drop it in favor of regular Linear Regression.  "
   ]
>>>>>>> upstream/main
  }
 ],
 "metadata": {
  "kernelspec": {
   "display_name": "Python 3",
   "language": "python",
   "name": "python3"
  },
  "language_info": {
   "codemirror_mode": {
    "name": "ipython",
    "version": 3
   },
   "file_extension": ".py",
   "mimetype": "text/x-python",
   "name": "python",
   "nbconvert_exporter": "python",
   "pygments_lexer": "ipython3",
   "version": "3.8.5"
  }
 },
 "nbformat": 4,
 "nbformat_minor": 4
}
