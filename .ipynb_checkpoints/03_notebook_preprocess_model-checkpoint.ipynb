{
 "cells": [
  {
   "cell_type": "markdown",
   "metadata": {},
   "source": [
    "# <img src=\"./resources/GA.png\" width=\"25\" height=\"25\" />   <span style=\"color:Purple\">Project 5 :  Food Insecurity Regression Study</span> \n",
    "---\n",
    "## <span style=\"color:Green\">Preprocessing / Modeling</span>      \n",
    "\n",
    "#### Alec Edgecliffe-Johnson, Ryan McDonald, Andrew Roberts, Ira Seidman- General Assembly \n",
    "\n",
    "\n",
    "\n",
    "---"
   ]
  },
  {
   "cell_type": "markdown",
   "metadata": {},
   "source": [
    "### Notebook Contents:\n",
    "\n",
    "- [Reading the Data](#intro)\n",
    "- [Modeling](#modeling)\n",
    "    - [Production Model, LinReg](#prod)\n",
    "         - [Extended Analysis](#analysis)\n",
    "    - [Model #2, KNN](#second)\n",
    "    - [Model #3, Decision Tree](#third)\n",
    "    - [Model #4, PolyFeat, LinReg](#fourth)\n",
    "    - [Model #5, ADA Boost](#fifth)\n",
    "    - [Model #6, SVM](#sixth)\n"
   ]
  },
  {
   "cell_type": "markdown",
   "metadata": {},
   "source": [
    "**Imports**"
   ]
  },
  {
   "cell_type": "code",
   "execution_count": 63,
   "metadata": {},
   "outputs": [],
   "source": [
    "import pandas as pd\n",
    "import numpy as np\n",
    "\n",
    "# Plotting Imports\n",
    "import matplotlib.pyplot as plt\n",
    "import seaborn as sns\n",
    "\n",
    "# SciKit Learn Processing/ Modeling Imports\n",
    "from sklearn.model_selection import train_test_split, GridSearchCV, cross_val_score\n",
    "from sklearn.pipeline import Pipeline\n",
    "from sklearn.metrics import r2_score, mean_squared_error\n",
    "from sklearn import metrics\n",
    "from sklearn.preprocessing import StandardScaler, PolynomialFeatures\n",
    "from sklearn.linear_model import LinearRegression, LassoCV\n",
    "from sklearn.neighbors import KNeighborsRegressor\n",
    "from sklearn.tree import DecisionTreeRegressor\n",
    "from sklearn.ensemble import BaggingRegressor, RandomForestRegressor, AdaBoostRegressor\n",
    "from sklearn.svm import SVR\n",
    "\n",
    "pd.set_option('display.max_rows', None)\n",
    "pd.set_option('display.max_columns', None)\n",
    "pd.set_option('display.width', None)\n",
    "pd.set_option('display.max_colwidth', None)"
   ]
  },
  {
   "cell_type": "markdown",
   "metadata": {},
   "source": [
    "<a id='intro'></a>\n",
    "\n",
    "## 1. Read the Data"
   ]
  },
  {
   "cell_type": "code",
   "execution_count": 18,
   "metadata": {},
   "outputs": [],
   "source": [
    "df = pd.read_csv('data/df_final.csv')"
   ]
  },
  {
   "cell_type": "markdown",
   "metadata": {},
   "source": [
    "<a id='modeling'></a>\n",
    "## Modeling Pre-work\n",
    "\n",
    "**Setting X, y and Train-Test-Split**"
   ]
  },
  {
   "cell_type": "code",
   "execution_count": 19,
   "metadata": {},
   "outputs": [],
   "source": [
    "features = df.drop(columns = ['ch_fi_rate_18', 'fi_rate_18', 'cpm_18', \n",
    "                       'state_abr', 'state_name', 'fips', 'county'])\n",
    "\n",
    "X = features\n",
    "y = df['fi_rate_18']\n",
    "\n",
    "X_train, X_test, y_train, y_test = train_test_split(X,\n",
    "                                                    y,\n",
    "                                                    random_state=42)"
   ]
  },
  {
   "cell_type": "code",
   "execution_count": 20,
   "metadata": {},
   "outputs": [],
   "source": [
    "# Scaling Data\n",
    "ss = StandardScaler()\n",
    "Z_train = ss.fit_transform(X_train)\n",
    "Z_test = ss.transform(X_test)"
   ]
  },
  {
   "cell_type": "markdown",
   "metadata": {},
   "source": [
    "<a id='prod'></a>\n",
    "### Model 1: Production Model\n",
    "\n",
    "**Linear Regression**"
   ]
  },
  {
   "cell_type": "code",
   "execution_count": 21,
   "metadata": {},
   "outputs": [
    {
     "data": {
      "text/plain": [
       "dict_keys(['copy_X', 'fit_intercept', 'n_jobs', 'normalize'])"
      ]
     },
     "execution_count": 21,
     "metadata": {},
     "output_type": "execute_result"
    }
   ],
   "source": [
    "LinearRegression().get_params().keys()"
   ]
  },
  {
   "cell_type": "code",
   "execution_count": 31,
   "metadata": {},
   "outputs": [],
   "source": [
    "# Setting up the Pipeline/ GridSearch\n",
    "\n",
    "pipe_ln = Pipeline([\n",
    "    ('ln', LinearRegression())\n",
    "])\n",
    "\n",
    "pipe_ln_params = { 'ln__fit_intercept': [False, True],\n",
    "                  'ln__copy_X': [False, True],\n",
    "                  'ln__normalize': [False, True]\n",
    "}\n",
    "\n",
    "pipe_ln.fit(Z_train, y_train)\n",
    "gs_ln = GridSearchCV(pipe_ln, \n",
    "                        param_grid = pipe_ln_params, \n",
    "                        cv=5)\n",
    "\n",
    "gs_ln.fit(Z_train, y_train);"
   ]
  },
  {
   "cell_type": "code",
   "execution_count": 23,
   "metadata": {},
   "outputs": [
    {
     "name": "stdout",
     "output_type": "stream",
     "text": [
      "0.9331071494649233\n"
     ]
    },
    {
     "data": {
      "text/plain": [
       "{'ln__copy_X': False, 'ln__fit_intercept': True, 'ln__normalize': False}"
      ]
     },
     "execution_count": 23,
     "metadata": {},
     "output_type": "execute_result"
    }
   ],
   "source": [
    "print(gs_ln.best_score_)\n",
    "gs_ln.best_params_"
   ]
  },
  {
   "cell_type": "code",
   "execution_count": 24,
   "metadata": {},
   "outputs": [
    {
     "name": "stdout",
     "output_type": "stream",
     "text": [
      "ln Training RMSE: 0.9242882324129449\n",
      "ln Testing RMSE: 0.9967000195040715\n"
     ]
    }
   ],
   "source": [
    "ln_preds_train = gs_ln.predict(Z_train)\n",
    "ln_preds_test = gs_ln.predict(Z_test)\n",
    "\n",
    "print(f'ln Training RMSE: {mean_squared_error(y_train, ln_preds_train, squared = False)}')\n",
    "print(f'ln Testing RMSE: {mean_squared_error(y_test, ln_preds_test, squared = False)}')"
   ]
  },
  {
   "cell_type": "code",
   "execution_count": 25,
   "metadata": {},
   "outputs": [
    {
     "name": "stdout",
     "output_type": "stream",
     "text": [
      "Training R2: 0.9386462698301442\n",
      "Testing R2: 0.9330074240127388\n"
     ]
    }
   ],
   "source": [
    "print(f'Training R2: {pipe_ln.score(Z_train, y_train)}')\n",
    "print(f'Testing R2: {pipe_ln.score(Z_test, y_test)}')"
   ]
  },
  {
   "cell_type": "code",
   "execution_count": 26,
   "metadata": {},
   "outputs": [
    {
     "data": {
      "text/html": [
       "<div>\n",
       "<style scoped>\n",
       "    .dataframe tbody tr th:only-of-type {\n",
       "        vertical-align: middle;\n",
       "    }\n",
       "\n",
       "    .dataframe tbody tr th {\n",
       "        vertical-align: top;\n",
       "    }\n",
       "\n",
       "    .dataframe thead th {\n",
       "        text-align: right;\n",
       "    }\n",
       "</style>\n",
       "<table border=\"1\" class=\"dataframe\">\n",
       "  <thead>\n",
       "    <tr style=\"text-align: right;\">\n",
       "      <th></th>\n",
       "      <th>features</th>\n",
       "      <th>coefficients</th>\n",
       "    </tr>\n",
       "  </thead>\n",
       "  <tbody>\n",
       "    <tr>\n",
       "      <th>44</th>\n",
       "      <td>percent_disabled</td>\n",
       "      <td>0.767051</td>\n",
       "    </tr>\n",
       "    <tr>\n",
       "      <th>16</th>\n",
       "      <td>percent_children_in_poverty</td>\n",
       "      <td>0.552381</td>\n",
       "    </tr>\n",
       "    <tr>\n",
       "      <th>5</th>\n",
       "      <td>percent_fair_or_poor_health</td>\n",
       "      <td>0.470569</td>\n",
       "    </tr>\n",
       "    <tr>\n",
       "      <th>28</th>\n",
       "      <td>percent_severe_housing_cost_burden</td>\n",
       "      <td>0.334582</td>\n",
       "    </tr>\n",
       "    <tr>\n",
       "      <th>20</th>\n",
       "      <td>percent_severe_housing_problems</td>\n",
       "      <td>0.288251</td>\n",
       "    </tr>\n",
       "    <tr>\n",
       "      <th>39</th>\n",
       "      <td>percent_below_poverty</td>\n",
       "      <td>0.192885</td>\n",
       "    </tr>\n",
       "    <tr>\n",
       "      <th>18</th>\n",
       "      <td>percent_single_parent_households_CHR</td>\n",
       "      <td>0.174937</td>\n",
       "    </tr>\n",
       "    <tr>\n",
       "      <th>17</th>\n",
       "      <td>num_households_CHR</td>\n",
       "      <td>0.161619</td>\n",
       "    </tr>\n",
       "    <tr>\n",
       "      <th>40</th>\n",
       "      <td>percent_unemployed_CDC</td>\n",
       "      <td>0.151693</td>\n",
       "    </tr>\n",
       "    <tr>\n",
       "      <th>43</th>\n",
       "      <td>percent_age_17_and_younger</td>\n",
       "      <td>0.143348</td>\n",
       "    </tr>\n",
       "  </tbody>\n",
       "</table>\n",
       "</div>"
      ],
      "text/plain": [
       "                                features  coefficients\n",
       "44                      percent_disabled      0.767051\n",
       "16           percent_children_in_poverty      0.552381\n",
       "5            percent_fair_or_poor_health      0.470569\n",
       "28    percent_severe_housing_cost_burden      0.334582\n",
       "20       percent_severe_housing_problems      0.288251\n",
       "39                 percent_below_poverty      0.192885\n",
       "18  percent_single_parent_households_CHR      0.174937\n",
       "17                    num_households_CHR      0.161619\n",
       "40                percent_unemployed_CDC      0.151693\n",
       "43            percent_age_17_and_younger      0.143348"
      ]
     },
     "execution_count": 26,
     "metadata": {},
     "output_type": "execute_result"
    }
   ],
   "source": [
    "feature_names = features\n",
    "coefs_ln = pipe_ln.named_steps['ln'].coef_.flatten()\n",
    "model_zip = zip(feature_names, coefs_ln)\n",
    "model_zip_df = pd.DataFrame(model_zip, columns = ['features', 'coefficients'])\n",
    "model_zip_df.sort_values(by = 'coefficients', ascending = False).head(10)"
   ]
  },
  {
   "cell_type": "markdown",
   "metadata": {},
   "source": [
    "<a id='analysis'></a>\n",
    "### Production Model Analysis "
   ]
  },
  {
   "cell_type": "code",
   "execution_count": null,
   "metadata": {},
   "outputs": [],
   "source": []
  },
  {
   "cell_type": "code",
   "execution_count": null,
   "metadata": {},
   "outputs": [],
   "source": []
  },
  {
   "cell_type": "code",
   "execution_count": null,
   "metadata": {},
   "outputs": [],
   "source": []
  },
  {
   "cell_type": "code",
   "execution_count": null,
   "metadata": {},
   "outputs": [],
   "source": []
  },
  {
   "cell_type": "code",
   "execution_count": null,
   "metadata": {},
   "outputs": [],
   "source": []
  },
  {
   "cell_type": "markdown",
   "metadata": {},
   "source": [
    "<a id='second'></a>\n",
    "### Model 2: KNN"
   ]
  },
  {
   "cell_type": "code",
   "execution_count": 28,
   "metadata": {},
   "outputs": [
    {
     "data": {
      "text/plain": [
       "dict_keys(['algorithm', 'leaf_size', 'metric', 'metric_params', 'n_jobs', 'n_neighbors', 'p', 'weights'])"
      ]
     },
     "execution_count": 28,
     "metadata": {},
     "output_type": "execute_result"
    }
   ],
   "source": [
    "KNeighborsRegressor().get_params().keys()"
   ]
  },
  {
   "cell_type": "code",
   "execution_count": 32,
   "metadata": {},
   "outputs": [],
   "source": [
    "# Setting up the Pipeline/ GridSearch\n",
    "\n",
    "pipe_knn = Pipeline([\n",
    "    ('knn', KNeighborsRegressor())\n",
    "])\n",
    "\n",
    "pipe_knn_params = { 'knn__n_neighbors': [5, 10, 20, 30, 40, 50, 60, 70, 80, 90, 100],\n",
    "            }\n",
    "\n",
    "pipe_knn.fit(Z_train, y_train)\n",
    "gs_knn = GridSearchCV(pipe_knn, \n",
    "                        param_grid = pipe_knn_params, \n",
    "                        cv=5)\n",
    "\n",
    "gs_knn.fit(Z_train, y_train);"
   ]
  },
  {
   "cell_type": "code",
   "execution_count": 33,
   "metadata": {},
   "outputs": [
    {
     "name": "stdout",
     "output_type": "stream",
     "text": [
      "0.851301455655712\n"
     ]
    },
    {
     "data": {
      "text/plain": [
       "{'knn__n_neighbors': 5}"
      ]
     },
     "execution_count": 33,
     "metadata": {},
     "output_type": "execute_result"
    }
   ],
   "source": [
    "print(gs_knn.best_score_)\n",
    "gs_knn.best_params_"
   ]
  },
  {
   "cell_type": "code",
   "execution_count": 34,
   "metadata": {},
   "outputs": [
    {
     "name": "stdout",
     "output_type": "stream",
     "text": [
      "knn Training RMSE: 1.1430855549727068\n",
      "knn Testing RMSE: 1.4479205383412166\n"
     ]
    }
   ],
   "source": [
    "knn_preds_train = gs_knn.predict(Z_train)\n",
    "knn_preds_test = gs_knn.predict(Z_test)\n",
    "\n",
    "print(f'knn Training RMSE: {mean_squared_error(y_train, knn_preds_train, squared = False)}')\n",
    "print(f'knn Testing RMSE: {mean_squared_error(y_test, knn_preds_test, squared = False)}')"
   ]
  },
  {
   "cell_type": "code",
   "execution_count": 35,
   "metadata": {},
   "outputs": [
    {
     "name": "stdout",
     "output_type": "stream",
     "text": [
      "Training R2: 0.9061609510423924\n",
      "Testing R2: 0.8586202527205257\n"
     ]
    }
   ],
   "source": [
    "print(f'Training R2: {pipe_knn.score(Z_train, y_train)}')\n",
    "print(f'Testing R2: {pipe_knn.score(Z_test, y_test)}')"
   ]
  },
  {
   "cell_type": "markdown",
   "metadata": {},
   "source": [
    "**Quick Analysis**"
   ]
  },
  {
   "cell_type": "code",
   "execution_count": null,
   "metadata": {},
   "outputs": [],
   "source": []
  },
  {
   "cell_type": "code",
   "execution_count": null,
   "metadata": {},
   "outputs": [],
   "source": []
  },
  {
   "cell_type": "markdown",
   "metadata": {},
   "source": [
    "<a id='third'></a>\n",
    "### Model 3: Decision Tree"
   ]
  },
  {
   "cell_type": "code",
   "execution_count": 36,
   "metadata": {},
   "outputs": [
    {
     "data": {
      "text/plain": [
       "dict_keys(['ccp_alpha', 'criterion', 'max_depth', 'max_features', 'max_leaf_nodes', 'min_impurity_decrease', 'min_impurity_split', 'min_samples_leaf', 'min_samples_split', 'min_weight_fraction_leaf', 'presort', 'random_state', 'splitter'])"
      ]
     },
     "execution_count": 36,
     "metadata": {},
     "output_type": "execute_result"
    }
   ],
   "source": [
    "DecisionTreeRegressor().get_params().keys()"
   ]
  },
  {
   "cell_type": "code",
   "execution_count": 37,
   "metadata": {},
   "outputs": [
    {
     "data": {
      "text/plain": [
       "{'ccp_alpha': 0.0,\n",
       " 'criterion': 'mse',\n",
       " 'max_depth': None,\n",
       " 'max_features': None,\n",
       " 'max_leaf_nodes': None,\n",
       " 'min_impurity_decrease': 0.0,\n",
       " 'min_impurity_split': None,\n",
       " 'min_samples_leaf': 1,\n",
       " 'min_samples_split': 2,\n",
       " 'min_weight_fraction_leaf': 0.0,\n",
       " 'presort': 'deprecated',\n",
       " 'random_state': None,\n",
       " 'splitter': 'best'}"
      ]
     },
     "execution_count": 37,
     "metadata": {},
     "output_type": "execute_result"
    }
   ],
   "source": [
    "DecisionTreeRegressor().get_params()"
   ]
  },
  {
   "cell_type": "code",
   "execution_count": 94,
   "metadata": {},
   "outputs": [],
   "source": [
    "# Setting up the Pipeline/ GridSearch\n",
    "pipe_dt = Pipeline([\n",
    "    ('dt', DecisionTreeRegressor())\n",
    "])\n",
    "\n",
    "pipe_dt_params = {'dt__max_depth': [5, 10, None], \n",
    "                  'dt__max_features': ['auto', 'log2'], \n",
    "                'dt__max_depth': [2,4,6,8,10,12]\n",
    "                 }\n",
    "\n",
    "pipe_dt.fit(Z_train, y_train)\n",
    "gs_dt = GridSearchCV(pipe_dt, \n",
    "                        param_grid = pipe_dt_params, \n",
    "                        cv=5)\n",
    "\n",
    "gs_dt.fit(Z_train, y_train);"
   ]
  },
  {
   "cell_type": "code",
   "execution_count": 53,
   "metadata": {},
   "outputs": [
    {
     "name": "stdout",
     "output_type": "stream",
     "text": [
      "0.7869780193745138\n"
     ]
    },
    {
     "data": {
      "text/plain": [
       "{'dt__max_depth': 6, 'dt__max_features': 'auto'}"
      ]
     },
     "execution_count": 53,
     "metadata": {},
     "output_type": "execute_result"
    }
   ],
   "source": [
    "print(gs_dt.best_score_)\n",
    "gs_dt.best_params_"
   ]
  },
  {
   "cell_type": "code",
   "execution_count": 54,
   "metadata": {},
   "outputs": [
    {
     "name": "stdout",
     "output_type": "stream",
     "text": [
      "dt Training RMSE: 1.1430855549727068\n",
      "dt Testing RMSE: 1.4479205383412166\n"
     ]
    }
   ],
   "source": [
    "dt_preds_train = gs_dt.predict(Z_train)\n",
    "dt_preds_test = gs_dt.predict(Z_test)\n",
    "\n",
    "print(f'dt Training RMSE: {mean_squared_error(y_train, knn_preds_train, squared = False)}')\n",
    "print(f'dt Testing RMSE: {mean_squared_error(y_test, knn_preds_test, squared = False)}')"
   ]
  },
  {
   "cell_type": "code",
   "execution_count": 55,
   "metadata": {},
   "outputs": [
    {
     "name": "stdout",
     "output_type": "stream",
     "text": [
      "Training R2: 1.0\n",
      "Testing R2: 0.7747778596742375\n"
     ]
    }
   ],
   "source": [
    "print(f'Training R2: {pipe_dt.score(Z_train, y_train)}')\n",
    "print(f'Testing R2: {pipe_dt.score(Z_test, y_test)}')"
   ]
  },
  {
   "cell_type": "markdown",
   "metadata": {},
   "source": [
    "**Quick Analysis**"
   ]
  },
  {
   "cell_type": "code",
   "execution_count": null,
   "metadata": {},
   "outputs": [],
   "source": []
  },
  {
   "cell_type": "code",
   "execution_count": null,
   "metadata": {},
   "outputs": [],
   "source": []
  },
  {
   "cell_type": "markdown",
   "metadata": {},
   "source": [
    "<a id='fourth'></a>\n",
    "### Model 4: PolynomialFeatures with StandardScalar and Linear Regression"
   ]
  },
  {
   "cell_type": "code",
   "execution_count": 58,
   "metadata": {},
   "outputs": [],
   "source": [
    "features = ['percent_children_in_poverty', 'percent_below_poverty', 'percent_fair_or_poor_health',\n",
    "            'pct_overall_pov_19','percentile_rank_social_vulnerability']\n",
    "\n",
    "X = df[features]\n",
    "y = df['fi_rate_18']\n",
    "\n",
    "X_train, X_test, y_train, y_test = train_test_split(X,\n",
    "                                                    y,\n",
    "                                                    random_state=42)\n",
    "pf = PolynomialFeatures(degree=2)\n",
    "X_train_pf = pf.fit_transform(X_train)\n",
    "X_test_pf = pf.transform(X_test)\n",
    "\n",
    "\n"
   ]
  },
  {
   "cell_type": "code",
   "execution_count": 59,
   "metadata": {},
   "outputs": [
    {
     "data": {
      "text/plain": [
       "(dict_keys(['copy_X', 'fit_intercept', 'n_jobs', 'normalize']),\n",
       " dict_keys(['degree', 'include_bias', 'interaction_only', 'order']))"
      ]
     },
     "execution_count": 59,
     "metadata": {},
     "output_type": "execute_result"
    }
   ],
   "source": [
    "LinearRegression().get_params().keys(), PolynomialFeatures().get_params().keys()"
   ]
  },
  {
   "cell_type": "code",
   "execution_count": 60,
   "metadata": {},
   "outputs": [
    {
     "name": "stdout",
     "output_type": "stream",
     "text": [
      "ln Training RMSE: 1.652341472472501\n",
      "ln Testing RMSE: 1.692077560336421\n",
      "Training R2: 0.8039234164197737\n",
      "Testing R2: 0.8069195616440654\n"
     ]
    },
    {
     "data": {
      "text/html": [
       "<div>\n",
       "<style scoped>\n",
       "    .dataframe tbody tr th:only-of-type {\n",
       "        vertical-align: middle;\n",
       "    }\n",
       "\n",
       "    .dataframe tbody tr th {\n",
       "        vertical-align: top;\n",
       "    }\n",
       "\n",
       "    .dataframe thead th {\n",
       "        text-align: right;\n",
       "    }\n",
       "</style>\n",
       "<table border=\"1\" class=\"dataframe\">\n",
       "  <thead>\n",
       "    <tr style=\"text-align: right;\">\n",
       "      <th></th>\n",
       "      <th>features</th>\n",
       "      <th>coefficients</th>\n",
       "    </tr>\n",
       "  </thead>\n",
       "  <tbody>\n",
       "    <tr>\n",
       "      <th>3</th>\n",
       "      <td>pct_overall_pov_19</td>\n",
       "      <td>2.285601</td>\n",
       "    </tr>\n",
       "    <tr>\n",
       "      <th>1</th>\n",
       "      <td>percent_below_poverty</td>\n",
       "      <td>1.365929</td>\n",
       "    </tr>\n",
       "    <tr>\n",
       "      <th>4</th>\n",
       "      <td>percentile_rank_social_vulnerability</td>\n",
       "      <td>0.095530</td>\n",
       "    </tr>\n",
       "    <tr>\n",
       "      <th>2</th>\n",
       "      <td>percent_fair_or_poor_health</td>\n",
       "      <td>0.051696</td>\n",
       "    </tr>\n",
       "    <tr>\n",
       "      <th>0</th>\n",
       "      <td>percent_children_in_poverty</td>\n",
       "      <td>0.000000</td>\n",
       "    </tr>\n",
       "  </tbody>\n",
       "</table>\n",
       "</div>"
      ],
      "text/plain": [
       "                               features  coefficients\n",
       "3                    pct_overall_pov_19      2.285601\n",
       "1                 percent_below_poverty      1.365929\n",
       "4  percentile_rank_social_vulnerability      0.095530\n",
       "2           percent_fair_or_poor_health      0.051696\n",
       "0           percent_children_in_poverty      0.000000"
      ]
     },
     "execution_count": 60,
     "metadata": {},
     "output_type": "execute_result"
    }
   ],
   "source": [
    "# Setting up the Pipeline/ GridSearch\n",
    "pipe_ln = Pipeline([\n",
    "    ('ss', StandardScaler()),\n",
    "    ('ln', LinearRegression()),\n",
    "#     ('model', LassoCV())\n",
    "])\n",
    "pipe_ln_params = {'ln__normalize':[True, False],\n",
    "                  'ln__fit_intercept':[True, False]\n",
    "#                   'model__alpha':[0.001, 0.01, 0.1],\n",
    "#                   'model__max_iter':[1000, 2000],\n",
    "#                   'model__normalize':[True, False]\n",
    "                  }\n",
    "\n",
    "pipe_ln.fit(X_train_pf, y_train)\n",
    "gs_ln = GridSearchCV(pipe_ln, \n",
    "                        param_grid = pipe_ln_params, \n",
    "                        cv=5)\n",
    "\n",
    "gs_ln.fit(X_train_pf, y_train);\n",
    "\n",
    "ln_preds_train = gs_ln.predict(X_train_pf)\n",
    "ln_preds_test = gs_ln.predict(X_test_pf)\n",
    "print(f'ln Training RMSE: {mean_squared_error(y_train, ln_preds_train, squared = False)}')\n",
    "print(f'ln Testing RMSE: {mean_squared_error(y_test, ln_preds_test, squared = False)}')\n",
    "print(f'Training R2: {pipe_ln.score(X_train_pf, y_train)}')\n",
    "print(f'Testing R2: {pipe_ln.score(X_test_pf, y_test)}')\n",
    "\n",
    "feature_names = features\n",
    "coefs_ln = pipe_ln.named_steps['ln'].coef_.flatten()\n",
    "model_zip = zip(feature_names, coefs_ln)\n",
    "model_zip_df = pd.DataFrame(model_zip, columns = ['features', 'coefficients'])\n",
    "model_zip_df.sort_values(by = 'coefficients', ascending = False)"
   ]
  },
  {
   "cell_type": "code",
   "execution_count": 61,
   "metadata": {},
   "outputs": [
    {
     "name": "stdout",
     "output_type": "stream",
     "text": [
      "0.7976139661653221\n"
     ]
    },
    {
     "data": {
      "text/plain": [
       "{'ln__fit_intercept': True, 'ln__normalize': True}"
      ]
     },
     "execution_count": 61,
     "metadata": {},
     "output_type": "execute_result"
    }
   ],
   "source": [
    "print(gs_ln.best_score_)\n",
    "gs_ln.best_params_"
   ]
  },
  {
   "cell_type": "markdown",
   "metadata": {},
   "source": [
    "**Will Lasso Improve our Score?**"
   ]
  },
  {
   "cell_type": "code",
   "execution_count": 64,
   "metadata": {},
   "outputs": [
    {
     "data": {
      "text/plain": [
       "LassoCV(max_iter=15000)"
      ]
     },
     "execution_count": 64,
     "metadata": {},
     "output_type": "execute_result"
    }
   ],
   "source": [
    "lasso=LassoCV(max_iter=15000 )\n",
    "lasso.fit(X_train_pf, y_train)"
   ]
  },
  {
   "cell_type": "code",
   "execution_count": 65,
   "metadata": {},
   "outputs": [
    {
     "name": "stdout",
     "output_type": "stream",
     "text": [
      "Lasso CV Training R=Squared: 0.7573510458114212\n",
      "Lasso CV Testing R=Squared: 0.7827335296909608\n"
     ]
    }
   ],
   "source": [
    "print(f\"Lasso CV Training R=Squared: {lasso.score(X_train_pf, y_train)}\")\n",
    "print(f\"Lasso CV Testing R=Squared: {lasso.score(X_test_pf, y_test)}\")"
   ]
  },
  {
   "cell_type": "markdown",
   "metadata": {},
   "source": [
    "**Quick Analysis**"
   ]
  },
  {
   "cell_type": "code",
   "execution_count": null,
   "metadata": {},
   "outputs": [],
   "source": []
  },
  {
   "cell_type": "code",
   "execution_count": null,
   "metadata": {},
   "outputs": [],
   "source": []
  },
  {
   "cell_type": "markdown",
   "metadata": {},
   "source": [
    "<a id='fifth'></a>\n",
    "### Model 5: ADA Boost"
   ]
  },
  {
   "cell_type": "code",
   "execution_count": 67,
   "metadata": {},
   "outputs": [],
   "source": [
    "features = df.drop(columns = ['ch_fi_rate_18', 'fi_rate_18', 'cpm_18', \n",
    "                       'state_abr', 'state_name', 'fips', 'county'])\n",
    "\n"
   ]
  },
  {
   "cell_type": "markdown",
   "metadata": {},
   "source": [
    "#### Setting Feature and Target Variables\n",
    "**Scaling and Train-Test-Split**"
   ]
  },
  {
   "cell_type": "code",
   "execution_count": 68,
   "metadata": {},
   "outputs": [],
   "source": [
    "X = features\n",
    "y = df['fi_rate_18']\n",
    "X_train, X_test, y_train, y_test = train_test_split(X,\n",
    "                                                    y,\n",
    "                                                    random_state=42)\n",
    "\n",
    "ss = StandardScaler()\n",
    "Z_train = ss.fit_transform(X_train)\n",
    "Z_test = ss.transform(X_test)"
   ]
  },
  {
   "cell_type": "code",
   "execution_count": 69,
   "metadata": {},
   "outputs": [],
   "source": [
    "# random seed for the rest of the notebook\n",
    "np.random.seed(42)"
   ]
  },
  {
   "cell_type": "code",
   "execution_count": 70,
   "metadata": {},
   "outputs": [
    {
     "data": {
      "text/plain": [
       "dict_keys(['base_estimator', 'learning_rate', 'loss', 'n_estimators', 'random_state'])"
      ]
     },
     "execution_count": 70,
     "metadata": {},
     "output_type": "execute_result"
    }
   ],
   "source": [
    "AdaBoostRegressor().get_params().keys()\n"
   ]
  },
  {
   "cell_type": "code",
   "execution_count": 71,
   "metadata": {},
   "outputs": [],
   "source": [
    "pipe_ada = Pipeline([\n",
    "    ('ada', AdaBoostRegressor())\n",
    "])\n"
   ]
  },
  {
   "cell_type": "code",
   "execution_count": 72,
   "metadata": {},
   "outputs": [],
   "source": [
    "# https://subscription.packtpub.com/book/big_data_and_business_intelligence/9781787286382/9/ch09lvl1sec95/tuning-an-adaboost-regressor\n",
    "pipe_ada_params = {  \n",
    " 'ada__n_estimators': [100, 150, 200],\n",
    " 'ada__learning_rate' : [1, 5, 10],\n",
    " 'ada__loss' : ['linear', 'square', 'exponential']\n",
    "}\n"
   ]
  },
  {
   "cell_type": "code",
   "execution_count": 73,
   "metadata": {},
   "outputs": [],
   "source": [
    "pipe_ada.fit(Z_train, y_train)\n",
    "gs_ada = GridSearchCV(pipe_ada, \n",
    "                        param_grid = pipe_ada_params, \n",
    "                        cv=5)"
   ]
  },
  {
   "cell_type": "code",
   "execution_count": 77,
   "metadata": {},
   "outputs": [
    {
     "name": "stdout",
     "output_type": "stream",
     "text": [
      "{'ada__learning_rate': 1, 'ada__loss': 'square', 'ada__n_estimators': 200}\n"
     ]
    }
   ],
   "source": [
    "print(gs_ada.best_params_)"
   ]
  },
  {
   "cell_type": "code",
   "execution_count": 78,
   "metadata": {},
   "outputs": [],
   "source": [
    "gs_ada.fit(Z_train, y_train);"
   ]
  },
  {
   "cell_type": "code",
   "execution_count": 79,
   "metadata": {},
   "outputs": [],
   "source": [
    "ada_preds_train = gs_ada.predict(Z_train)\n",
    "ada_preds_test = gs_ada.predict(Z_test)"
   ]
  },
  {
   "cell_type": "code",
   "execution_count": 80,
   "metadata": {},
   "outputs": [
    {
     "name": "stdout",
     "output_type": "stream",
     "text": [
      "AdaBoost Training RMSE: 1.2773228209775374\n",
      "AdaBoost Testing RMSE: 1.452327363310606\n",
      "Training R2: 0.8748507243766415\n",
      "Testing R2: 0.846666164902464\n"
     ]
    }
   ],
   "source": [
    "print(f'AdaBoost Training RMSE: {mean_squared_error(y_train, ada_preds_train, squared = False)}')\n",
    "print(f'AdaBoost Testing RMSE: {mean_squared_error(y_test, ada_preds_test, squared = False)}')\n",
    "print(f'Training R2: {pipe_ada.score(Z_train, y_train)}')\n",
    "print(f'Testing R2: {pipe_ada.score(Z_test, y_test)}')"
   ]
  },
  {
   "cell_type": "code",
   "execution_count": 81,
   "metadata": {},
   "outputs": [
    {
     "data": {
      "text/html": [
       "<div>\n",
       "<style scoped>\n",
       "    .dataframe tbody tr th:only-of-type {\n",
       "        vertical-align: middle;\n",
       "    }\n",
       "\n",
       "    .dataframe tbody tr th {\n",
       "        vertical-align: top;\n",
       "    }\n",
       "\n",
       "    .dataframe thead th {\n",
       "        text-align: right;\n",
       "    }\n",
       "</style>\n",
       "<table border=\"1\" class=\"dataframe\">\n",
       "  <thead>\n",
       "    <tr style=\"text-align: right;\">\n",
       "      <th></th>\n",
       "      <th>features</th>\n",
       "      <th>coefficients</th>\n",
       "    </tr>\n",
       "  </thead>\n",
       "  <tbody>\n",
       "    <tr>\n",
       "      <th>16</th>\n",
       "      <td>percent_children_in_poverty</td>\n",
       "      <td>0.193044</td>\n",
       "    </tr>\n",
       "    <tr>\n",
       "      <th>39</th>\n",
       "      <td>percent_below_poverty</td>\n",
       "      <td>0.151260</td>\n",
       "    </tr>\n",
       "    <tr>\n",
       "      <th>48</th>\n",
       "      <td>pct_overall_pov_19</td>\n",
       "      <td>0.133538</td>\n",
       "    </tr>\n",
       "    <tr>\n",
       "      <th>22</th>\n",
       "      <td>life_expectancy</td>\n",
       "      <td>0.075478</td>\n",
       "    </tr>\n",
       "    <tr>\n",
       "      <th>25</th>\n",
       "      <td>median_household_income</td>\n",
       "      <td>0.062817</td>\n",
       "    </tr>\n",
       "    <tr>\n",
       "      <th>47</th>\n",
       "      <td>percentile_rank_social_vulnerability</td>\n",
       "      <td>0.058584</td>\n",
       "    </tr>\n",
       "    <tr>\n",
       "      <th>6</th>\n",
       "      <td>average_number_of_mentally_unhealthy_days</td>\n",
       "      <td>0.058199</td>\n",
       "    </tr>\n",
       "    <tr>\n",
       "      <th>44</th>\n",
       "      <td>percent_disabled</td>\n",
       "      <td>0.048597</td>\n",
       "    </tr>\n",
       "    <tr>\n",
       "      <th>5</th>\n",
       "      <td>percent_fair_or_poor_health</td>\n",
       "      <td>0.039349</td>\n",
       "    </tr>\n",
       "    <tr>\n",
       "      <th>40</th>\n",
       "      <td>percent_unemployed_CDC</td>\n",
       "      <td>0.036158</td>\n",
       "    </tr>\n",
       "  </tbody>\n",
       "</table>\n",
       "</div>"
      ],
      "text/plain": [
       "                                     features  coefficients\n",
       "16                percent_children_in_poverty      0.193044\n",
       "39                      percent_below_poverty      0.151260\n",
       "48                         pct_overall_pov_19      0.133538\n",
       "22                            life_expectancy      0.075478\n",
       "25                    median_household_income      0.062817\n",
       "47       percentile_rank_social_vulnerability      0.058584\n",
       "6   average_number_of_mentally_unhealthy_days      0.058199\n",
       "44                           percent_disabled      0.048597\n",
       "5                 percent_fair_or_poor_health      0.039349\n",
       "40                     percent_unemployed_CDC      0.036158"
      ]
     },
     "execution_count": 81,
     "metadata": {},
     "output_type": "execute_result"
    }
   ],
   "source": [
    "feature_names = features\n",
    "coefs_ada = pipe_ada.named_steps['ada'].feature_importances_\n",
    "model_zip = zip(feature_names, coefs_ada)\n",
    "model_zip_df = pd.DataFrame(model_zip, columns = ['features', 'coefficients'])\n",
    "model_zip_df.sort_values(by = 'coefficients', ascending = False).head(10)"
   ]
  },
  {
   "cell_type": "markdown",
   "metadata": {},
   "source": [
    "**Quick Analysis**"
   ]
  },
  {
   "cell_type": "code",
   "execution_count": null,
   "metadata": {},
   "outputs": [],
   "source": []
  },
  {
   "cell_type": "code",
   "execution_count": null,
   "metadata": {},
   "outputs": [],
   "source": []
  },
  {
   "cell_type": "markdown",
   "metadata": {},
   "source": [
    "<a id='sixth'></a>\n",
    "### Model 6: Support Vector Machines"
   ]
  },
  {
   "cell_type": "code",
   "execution_count": 23,
   "metadata": {},
   "outputs": [
    {
     "data": {
      "text/plain": [
       "dict_keys(['C', 'cache_size', 'coef0', 'degree', 'epsilon', 'gamma', 'kernel', 'max_iter', 'shrinking', 'tol', 'verbose'])"
      ]
     },
     "execution_count": 23,
     "metadata": {},
     "output_type": "execute_result"
    }
   ],
   "source": [
    "SVR().get_params().keys()"
   ]
  },
  {
   "cell_type": "code",
   "execution_count": 87,
   "metadata": {},
   "outputs": [],
   "source": [
    "# Setting up Pipeling and GridSearch\n",
    "pipe_svr = Pipeline([\n",
    "    ('svr', SVR(kernel='linear'))\n",
    "])\n",
    "\n",
    "\n",
    "pipe_svr_params = {  \n",
    " 'svr__C': [.01, .1, 1, 10, 100]\n",
    "}\n",
    "\n",
    "\n",
    "pipe_svr.fit(Z_train, y_train)\n",
    "gs_svr = GridSearchCV(pipe_svr, \n",
    "                        param_grid = pipe_svr_params, \n",
    "                        cv=5,\n",
    "                        n_jobs=4\n",
    ")"
   ]
  },
  {
   "cell_type": "code",
   "execution_count": 88,
   "metadata": {},
   "outputs": [],
   "source": [
    "gs_svr.fit(Z_train, y_train);"
   ]
  },
  {
   "cell_type": "code",
   "execution_count": 89,
   "metadata": {},
   "outputs": [],
   "source": [
    "svr_preds_train = gs_svr.predict(Z_train)\n",
    "svr_preds_test = gs_svr.predict(Z_test)"
   ]
  },
  {
   "cell_type": "code",
   "execution_count": 90,
   "metadata": {},
   "outputs": [
    {
     "name": "stdout",
     "output_type": "stream",
     "text": [
      "SVR Training RMSE: 0.9366578780068757\n",
      "SVR Testing RMSE: 1.0006495337045944\n",
      "Training R2: 0.9369931011152008\n",
      "Testing R2: 0.9324754437734858\n"
     ]
    }
   ],
   "source": [
    "print(f'SVR Training RMSE: {mean_squared_error(y_train, svr_preds_train, squared = False)}')\n",
    "print(f'SVR Testing RMSE: {mean_squared_error(y_test, svr_preds_test, squared = False)}')\n",
    "print(f'Training R2: {pipe_svr.score(Z_train, y_train)}')\n",
    "print(f'Testing R2: {pipe_svr.score(Z_test, y_test)}')"
   ]
  },
  {
   "cell_type": "code",
   "execution_count": 93,
   "metadata": {},
   "outputs": [
    {
     "data": {
      "text/html": [
       "<div>\n",
       "<style scoped>\n",
       "    .dataframe tbody tr th:only-of-type {\n",
       "        vertical-align: middle;\n",
       "    }\n",
       "\n",
       "    .dataframe tbody tr th {\n",
       "        vertical-align: top;\n",
       "    }\n",
       "\n",
       "    .dataframe thead th {\n",
       "        text-align: right;\n",
       "    }\n",
       "</style>\n",
       "<table border=\"1\" class=\"dataframe\">\n",
       "  <thead>\n",
       "    <tr style=\"text-align: right;\">\n",
       "      <th></th>\n",
       "      <th>features</th>\n",
       "      <th>coefficients</th>\n",
       "    </tr>\n",
       "  </thead>\n",
       "  <tbody>\n",
       "    <tr>\n",
       "      <th>0</th>\n",
       "      <td>lat</td>\n",
       "      <td>[-0.09500268194691941, 0.0772224931192671, -0.014253348458105108, 0.03745356823913326, 0.052440934151810836, 0.5180078169045643, 0.1416306703463981, 0.14468979679552696, -0.012546599994928798, 0.06713975914042791, -3.7580612295956115, 0.048092961344494256, 0.04177971424301852, 0.15416030270655412, 0.039294403618672646, -0.05091340760771246, 0.5870801435946982, 0.03757776877539598, 0.2117905914182785, -0.14392124768969694, 0.3319907475937356, -0.5844828096041823, -0.10439769066995197, 0.050044025360961086, -2.453014102692862, -0.05827058903630267, -0.14594184279148337, 0.08039420776725947, 0.25772401259429145, -0.8685884039454379, -0.3372026223509952, -0.031491387111373115, 0.0389980182714007, 0.0256545867496607, 0.21795956150827145, -0.037170137324244124, -0.0437330207670108, 0.0860010465387262, 0.029882224778358335, 0.13898011902101004, 0.13922389576088, -0.20061017897080546, -0.08966947551140692, 0.14212780832455962, 0.7487627440467719, 0.31101864715489924, 0.1368048635809611, -0.0559836936898499, -0.20513823247270935, 0.16847325423994874, -0.2119712351902443, 0.05897082147129851, -0.048334020328343996]</td>\n",
       "    </tr>\n",
       "  </tbody>\n",
       "</table>\n",
       "</div>"
      ],
      "text/plain": [
       "  features  \\\n",
       "0      lat   \n",
       "\n",
       "                                                                                                                                                                                                                                                                                                                                                                                                                                                                                                                                                                                                                                                                                                                                                                                                                                                                                                                                                                                                                                                                                                                                                         coefficients  \n",
       "0  [-0.09500268194691941, 0.0772224931192671, -0.014253348458105108, 0.03745356823913326, 0.052440934151810836, 0.5180078169045643, 0.1416306703463981, 0.14468979679552696, -0.012546599994928798, 0.06713975914042791, -3.7580612295956115, 0.048092961344494256, 0.04177971424301852, 0.15416030270655412, 0.039294403618672646, -0.05091340760771246, 0.5870801435946982, 0.03757776877539598, 0.2117905914182785, -0.14392124768969694, 0.3319907475937356, -0.5844828096041823, -0.10439769066995197, 0.050044025360961086, -2.453014102692862, -0.05827058903630267, -0.14594184279148337, 0.08039420776725947, 0.25772401259429145, -0.8685884039454379, -0.3372026223509952, -0.031491387111373115, 0.0389980182714007, 0.0256545867496607, 0.21795956150827145, -0.037170137324244124, -0.0437330207670108, 0.0860010465387262, 0.029882224778358335, 0.13898011902101004, 0.13922389576088, -0.20061017897080546, -0.08966947551140692, 0.14212780832455962, 0.7487627440467719, 0.31101864715489924, 0.1368048635809611, -0.0559836936898499, -0.20513823247270935, 0.16847325423994874, -0.2119712351902443, 0.05897082147129851, -0.048334020328343996]  "
      ]
     },
     "execution_count": 93,
     "metadata": {},
     "output_type": "execute_result"
    }
   ],
   "source": [
    "# attribute error associated with coefficents. Can't get coefficents, but since we are seeking accuracy over interpretability then that is OK.\n",
    "\n",
    "feature_names = features\n",
    "coefs_svr = pipe_svr.named_steps['svr'].coef_\n",
    "model_zip = zip(feature_names, coefs_svr)\n",
    "model_zip_df = pd.DataFrame(model_zip, columns = ['features', 'coefficients'])\n",
    "model_zip_df.sort_values(by = 'coefficients', ascending = False)"
   ]
  },
  {
   "cell_type": "markdown",
   "metadata": {},
   "source": [
    "**Quick Analysis**"
   ]
  },
  {
   "cell_type": "code",
   "execution_count": null,
   "metadata": {},
   "outputs": [],
   "source": []
  },
  {
   "cell_type": "code",
   "execution_count": null,
   "metadata": {},
   "outputs": [],
   "source": []
  }
 ],
 "metadata": {
  "kernelspec": {
   "display_name": "Python 3",
   "language": "python",
   "name": "python3"
  },
  "language_info": {
   "codemirror_mode": {
    "name": "ipython",
    "version": 3
   },
   "file_extension": ".py",
   "mimetype": "text/x-python",
   "name": "python",
   "nbconvert_exporter": "python",
   "pygments_lexer": "ipython3",
   "version": "3.8.5"
  }
 },
 "nbformat": 4,
 "nbformat_minor": 4
}
