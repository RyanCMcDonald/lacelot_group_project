{
 "cells": [
  {
   "cell_type": "code",
   "execution_count": 6,
   "metadata": {},
   "outputs": [],
   "source": [
    "import pandas as pd\n",
    "import numpy as np\n",
    "import matplotlib.pyplot as plt\n",
    "import seaborn as sns\n",
    "\n",
    "from sklearn.model_selection import train_test_split, GridSearchCV, cross_val_score\n",
    "from sklearn.pipeline import Pipeline\n",
    "from sklearn.metrics import r2_score, mean_squared_error\n",
    "from sklearn import metrics\n",
    "from sklearn.preprocessing import StandardScaler\n",
    "from sklearn.linear_model import LinearRegression\n",
    "from sklearn.neighbors import KNeighborsRegressor\n",
    "from sklearn.tree import DecisionTreeRegressor\n",
    "from sklearn.ensemble import BaggingRegressor, RandomForestRegressor, AdaBoostRegressor\n",
    "from sklearn.svm import SVR"
   ]
  },
  {
   "cell_type": "code",
   "execution_count": 7,
   "metadata": {},
   "outputs": [
    {
     "name": "stdout",
     "output_type": "stream",
     "text": [
      "/Users/ae-j\n"
     ]
    }
   ],
   "source": [
    "cd ~"
   ]
  },
  {
   "cell_type": "code",
   "execution_count": 8,
   "metadata": {},
   "outputs": [
    {
     "name": "stdout",
     "output_type": "stream",
     "text": [
      "/Users/ae-j/Documents/GA/PL/project_group/lancelot_group_project\n"
     ]
    }
   ],
   "source": [
    "cd Documents/GA/PL/project_group/lancelot_group_project"
   ]
  },
  {
   "cell_type": "code",
   "execution_count": 9,
   "metadata": {},
   "outputs": [],
   "source": [
    "df = pd.read_csv('./data/df_final.csv')"
   ]
  },
  {
   "cell_type": "code",
   "execution_count": 32,
   "metadata": {},
   "outputs": [],
   "source": [
    "features = df.drop(columns = ['ch_fi_rate_18', 'fi_rate_18', 'cpm_18', \n",
    "                       'state_abr', 'state_name', 'fips', 'county'])\n",
    "\n",
    "X = features\n",
    "y = df['fi_rate_18']\n",
    "\n",
    "X_train, X_test, y_train, y_test = train_test_split(X,\n",
    "                                                    y,\n",
    "                                                    random_state=42)"
   ]
  },
  {
   "cell_type": "code",
   "execution_count": 32,
   "metadata": {},
   "outputs": [],
   "source": [
    "ss = StandardScaler()\n",
    "Z_train = ss.fit_transform(X_train)\n",
    "Z_test = ss.transform(X_test)"
   ]
  },
  {
   "cell_type": "markdown",
   "metadata": {},
   "source": [
    "## Model 1: Linear Regression"
   ]
  },
  {
   "cell_type": "code",
   "execution_count": 66,
   "metadata": {},
   "outputs": [
    {
     "data": {
      "text/plain": [
       "dict_keys(['copy_X', 'fit_intercept', 'n_jobs', 'normalize'])"
      ]
     },
     "execution_count": 66,
     "metadata": {},
     "output_type": "execute_result"
    }
   ],
   "source": [
    "LinearRegression().get_params().keys()"
   ]
  },
  {
   "cell_type": "code",
   "execution_count": 74,
   "metadata": {},
   "outputs": [],
   "source": [
    "pipe_ln = Pipeline([\n",
    "    ('ln', LinearRegression())\n",
    "])\n",
    "\n",
    "pipe_ln_params = { \n",
    "}\n",
    "\n",
    "pipe_ln.fit(Z_train, y_train)\n",
    "gs_ln = GridSearchCV(pipe_ln, \n",
    "                        param_grid = pipe_ln_params, \n",
    "                        cv=5)\n",
    "\n",
    "gs_ln.fit(Z_train, y_train);"
   ]
  },
  {
   "cell_type": "code",
   "execution_count": 75,
   "metadata": {},
   "outputs": [
    {
     "name": "stdout",
     "output_type": "stream",
     "text": [
      "ln Training RMSE: 0.9242882324129448\n",
      "ln Testing RMSE: 0.9967000195040713\n"
     ]
    }
   ],
   "source": [
    "ln_preds_train = gs_ln.predict(Z_train)\n",
    "ln_preds_test = gs_ln.predict(Z_test)\n",
    "\n",
    "print(f'ln Training RMSE: {mean_squared_error(y_train, ln_preds_train, squared = False)}')\n",
    "print(f'ln Testing RMSE: {mean_squared_error(y_test, ln_preds_test, squared = False)}')"
   ]
  },
  {
   "cell_type": "code",
   "execution_count": 76,
   "metadata": {},
   "outputs": [
    {
     "name": "stdout",
     "output_type": "stream",
     "text": [
      "Training R2: 0.9386462698301442\n",
      "Testing R2: 0.933007424012739\n"
     ]
    }
   ],
   "source": [
    "print(f'Training R2: {pipe_ln.score(Z_train, y_train)}')\n",
    "print(f'Testing R2: {pipe_ln.score(Z_test, y_test)}')"
   ]
  },
  {
   "cell_type": "code",
   "execution_count": 77,
   "metadata": {},
   "outputs": [
    {
     "data": {
      "text/html": [
       "<div>\n",
       "<style scoped>\n",
       "    .dataframe tbody tr th:only-of-type {\n",
       "        vertical-align: middle;\n",
       "    }\n",
       "\n",
       "    .dataframe tbody tr th {\n",
       "        vertical-align: top;\n",
       "    }\n",
       "\n",
       "    .dataframe thead th {\n",
       "        text-align: right;\n",
       "    }\n",
       "</style>\n",
       "<table border=\"1\" class=\"dataframe\">\n",
       "  <thead>\n",
       "    <tr style=\"text-align: right;\">\n",
       "      <th></th>\n",
       "      <th>features</th>\n",
       "      <th>coefficients</th>\n",
       "    </tr>\n",
       "  </thead>\n",
       "  <tbody>\n",
       "    <tr>\n",
       "      <th>44</th>\n",
       "      <td>percent_disabled</td>\n",
       "      <td>0.767051</td>\n",
       "    </tr>\n",
       "    <tr>\n",
       "      <th>16</th>\n",
       "      <td>percent_children_in_poverty</td>\n",
       "      <td>0.552381</td>\n",
       "    </tr>\n",
       "    <tr>\n",
       "      <th>5</th>\n",
       "      <td>percent_fair_or_poor_health</td>\n",
       "      <td>0.470569</td>\n",
       "    </tr>\n",
       "    <tr>\n",
       "      <th>28</th>\n",
       "      <td>percent_severe_housing_cost_burden</td>\n",
       "      <td>0.334582</td>\n",
       "    </tr>\n",
       "    <tr>\n",
       "      <th>20</th>\n",
       "      <td>percent_severe_housing_problems</td>\n",
       "      <td>0.288251</td>\n",
       "    </tr>\n",
       "    <tr>\n",
       "      <th>39</th>\n",
       "      <td>percent_below_poverty</td>\n",
       "      <td>0.192885</td>\n",
       "    </tr>\n",
       "    <tr>\n",
       "      <th>18</th>\n",
       "      <td>percent_single_parent_households_CHR</td>\n",
       "      <td>0.174937</td>\n",
       "    </tr>\n",
       "    <tr>\n",
       "      <th>17</th>\n",
       "      <td>num_households_CHR</td>\n",
       "      <td>0.161619</td>\n",
       "    </tr>\n",
       "    <tr>\n",
       "      <th>40</th>\n",
       "      <td>percent_unemployed_CDC</td>\n",
       "      <td>0.151693</td>\n",
       "    </tr>\n",
       "    <tr>\n",
       "      <th>43</th>\n",
       "      <td>percent_age_17_and_younger</td>\n",
       "      <td>0.143348</td>\n",
       "    </tr>\n",
       "  </tbody>\n",
       "</table>\n",
       "</div>"
      ],
      "text/plain": [
       "                                features  coefficients\n",
       "44                      percent_disabled      0.767051\n",
       "16           percent_children_in_poverty      0.552381\n",
       "5            percent_fair_or_poor_health      0.470569\n",
       "28    percent_severe_housing_cost_burden      0.334582\n",
       "20       percent_severe_housing_problems      0.288251\n",
       "39                 percent_below_poverty      0.192885\n",
       "18  percent_single_parent_households_CHR      0.174937\n",
       "17                    num_households_CHR      0.161619\n",
       "40                percent_unemployed_CDC      0.151693\n",
       "43            percent_age_17_and_younger      0.143348"
      ]
     },
     "execution_count": 77,
     "metadata": {},
     "output_type": "execute_result"
    }
   ],
   "source": [
    "feature_names = features\n",
    "coefs_ln = pipe_ln.named_steps['ln'].coef_.flatten()\n",
    "\n",
    "model_zip = zip(feature_names, coefs_ln)\n",
    "model_zip_df = pd.DataFrame(model_zip, columns = ['features', 'coefficients'])\n",
    "\n",
    "model_zip_df.sort_values(by = 'coefficients', ascending = False).head(10)"
   ]
  },
  {
   "cell_type": "code",
   "execution_count": null,
   "metadata": {},
   "outputs": [],
   "source": []
  },
  {
   "cell_type": "code",
   "execution_count": null,
   "metadata": {},
   "outputs": [],
   "source": []
  }
 ],
 "metadata": {
  "kernelspec": {
   "display_name": "Python 3",
   "language": "python",
   "name": "python3"
  },
  "language_info": {
   "codemirror_mode": {
    "name": "ipython",
    "version": 3
   },
   "file_extension": ".py",
   "mimetype": "text/x-python",
   "name": "python",
   "nbconvert_exporter": "python",
   "pygments_lexer": "ipython3",
   "version": "3.8.5"
  }
 },
 "nbformat": 4,
 "nbformat_minor": 4
}
